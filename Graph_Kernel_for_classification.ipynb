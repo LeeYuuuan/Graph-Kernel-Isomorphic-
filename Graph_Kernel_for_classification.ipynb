{
  "nbformat": 4,
  "nbformat_minor": 0,
  "metadata": {
    "colab": {
      "name": "Graph_Kernel_for_classification.ipynb",
      "provenance": [],
      "authorship_tag": "ABX9TyP9az/1ZuVrQTxarVR1RIcb",
      "include_colab_link": true
    },
    "kernelspec": {
      "name": "python3",
      "display_name": "Python 3"
    },
    "language_info": {
      "name": "python"
    }
  },
  "cells": [
    {
      "cell_type": "markdown",
      "metadata": {
        "id": "view-in-github",
        "colab_type": "text"
      },
      "source": [
        "<a href=\"https://colab.research.google.com/github/LeeYuuuan/Graph-Kernel-Isomorphic-/blob/main/Graph_Kernel_for_classification.ipynb\" target=\"_parent\"><img src=\"https://colab.research.google.com/assets/colab-badge.svg\" alt=\"Open In Colab\"/></a>"
      ]
    },
    {
      "cell_type": "markdown",
      "source": [
        "\n",
        "# add dependencies\n"
      ],
      "metadata": {
        "id": "6i9n_UyHnzlz"
      }
    },
    {
      "cell_type": "code",
      "execution_count": 20,
      "metadata": {
        "colab": {
          "base_uri": "https://localhost:8080/"
        },
        "id": "QUQSXP0YnofR",
        "outputId": "fc8af0ad-e1c0-4861-9260-a21573279d06"
      },
      "outputs": [
        {
          "output_type": "stream",
          "name": "stdout",
          "text": [
            "Looking in indexes: https://pypi.org/simple, https://us-python.pkg.dev/colab-wheels/public/simple/\n",
            "Requirement already satisfied: grakel in /usr/local/lib/python3.7/dist-packages (0.1.8)\n",
            "Requirement already satisfied: nose>=1.1.2 in /usr/local/lib/python3.7/dist-packages (from grakel) (1.3.7)\n",
            "Requirement already satisfied: joblib in /usr/local/lib/python3.7/dist-packages (from grakel) (1.1.0)\n",
            "Requirement already satisfied: cython>=0.27.3 in /usr/local/lib/python3.7/dist-packages (from grakel) (0.29.31)\n",
            "Requirement already satisfied: future>=0.16.0 in /usr/local/lib/python3.7/dist-packages (from grakel) (0.16.0)\n",
            "Requirement already satisfied: scikit-learn>=0.19 in /usr/local/lib/python3.7/dist-packages (from grakel) (1.0.2)\n",
            "Requirement already satisfied: numpy>=1.14.0 in /usr/local/lib/python3.7/dist-packages (from grakel) (1.21.6)\n",
            "Requirement already satisfied: six>=1.11.0 in /usr/local/lib/python3.7/dist-packages (from grakel) (1.15.0)\n",
            "Requirement already satisfied: scipy>=1.1.0 in /usr/local/lib/python3.7/dist-packages (from scikit-learn>=0.19->grakel) (1.7.3)\n",
            "Requirement already satisfied: threadpoolctl>=2.0.0 in /usr/local/lib/python3.7/dist-packages (from scikit-learn>=0.19->grakel) (3.1.0)\n"
          ]
        }
      ],
      "source": [
        "%pip install grakel\n",
        "import grakel\n",
        "import networkx as nx\n",
        "import matplotlib.pyplot as plt\n",
        "import numpy as np\n",
        "import networkx.algorithms.isomorphism as iso\n",
        "import time\n",
        "from sklearn.model_selection import cross_val_score\n",
        "from sklearn.model_selection import train_test_split\n",
        "from sklearn.svm import SVC\n",
        "from sklearn.metrics import accuracy_score\n",
        "\n",
        "\n",
        "from sklearn.metrics import classification_report \n",
        "from sklearn.model_selection import GridSearchCV\n",
        "from sklearn.model_selection import cross_val_predict\n",
        "from sklearn.pipeline import make_pipeline\n",
        "\n",
        "import seaborn as sns"
      ]
    },
    {
      "cell_type": "markdown",
      "source": [
        "# draw graph\n"
      ],
      "metadata": {
        "id": "SY2a244gn9MH"
      }
    },
    {
      "cell_type": "code",
      "source": [
        "def draw_graphs(G,G1):\n",
        "    pos = nx.spring_layout(G)\n",
        "    pos1 = nx.spring_layout(G1) \n",
        "    plt.subplot(121)\n",
        "    nx.draw(G, pos, with_labels=True, node_color='pink', node_size=500)\n",
        "    plt.subplot(122)\n",
        "    nx.draw(G1, pos1, with_labels=True, node_size=500)\n",
        "    plt.show()\n"
      ],
      "metadata": {
        "id": "t2IFkfCloB-W"
      },
      "execution_count": 2,
      "outputs": []
    },
    {
      "cell_type": "markdown",
      "source": [
        "# load data"
      ],
      "metadata": {
        "id": "sr9kMRMWoGUO"
      }
    },
    {
      "cell_type": "code",
      "source": [
        "def GetGraphData(dataset_name):\n",
        "  dataset = grakel.datasets.fetch_dataset(dataset_name, verbose=True, data_home=None, download_if_missing=True, with_classes=True, produce_labels_nodes=False, prefer_attr_nodes=False, prefer_attr_edges=False, as_graphs=False)\n",
        "  G = dataset.data\n",
        "  y = dataset.target\n",
        "  return G, y"
      ],
      "metadata": {
        "id": "KE05OUTOoFL1"
      },
      "execution_count": 3,
      "outputs": []
    },
    {
      "cell_type": "markdown",
      "source": [
        "# wl_test for classification"
      ],
      "metadata": {
        "id": "5gCxAH43oP6y"
      }
    },
    {
      "cell_type": "code",
      "source": [
        "def CreateFeatureMatrix_wl_test(vector_all):\n",
        "  feature_matrix = np.zeros([len(vector_all),len(vector_all[0])])\n",
        "  for i in range(len(vector_all)):\n",
        "      feature_matrix[i,:] = vector_all[i]\n",
        "      #feature_matrix[i,j] = IsIsomorphicDefault(graphs[i],graphs[j],is_node_labeled,is_edge_labeled)\n",
        "   \n",
        "  return feature_matrix\n"
      ],
      "metadata": {
        "id": "F1yWqOs7oPQ5"
      },
      "execution_count": 4,
      "outputs": []
    },
    {
      "cell_type": "code",
      "source": [
        "def Classification(dataset_name, kernel_name):\n",
        "    G, y = GetGraphData(dataset_name)\n",
        "    G_train, G_test, y_train, y_test = train_test_split(G, y, test_size=0.1, random_state=42)\n",
        "\n",
        "    C_grid = (10. ** np.arange(-4,6,1) / len(G)).tolist()\n",
        "    if kernel_name == \"weisfeiler_lehman\":\n",
        "\n",
        "        gk = grakel.GraphKernel(kernel=[{\"name\": \"weisfeiler_lehman\", \"n_iter\": 5}, \"subtree_wl\"] ,Nystroem=20)\n",
        "        K_train = gk.fit_transform(G_train)\n",
        "        K_test = gk.transform(G_test)\n",
        "\n",
        "        clf = SVC(kernel='linear')\n",
        "        clf.fit(K_train, y_train)\n",
        "        SVC(kernel='linear')\n",
        "        C_grid = (10. ** np.arange(-4,6,1) / len(G)).tolist()\n",
        "        scores = cross_val_score(clf, K_train, y_train, cv=5)\n",
        "        y_pred = clf.predict(K_test)\n",
        "        print(str(round(accuracy_score(y_test, y_pred)*100, 2)), \"%\")\n",
        "      \n",
        "    \n",
        "    if kernel_name == \"ShortestPath\":\n",
        "        estimator = make_pipeline(\n",
        "        grakel.kernels.ShortestPath(normalize=True),\n",
        "        GridSearchCV(SVC(kernel='precomputed'), dict(C=C_grid),\n",
        "                    scoring='accuracy', cv=10))\n",
        "        \n",
        "        n_folds = 10\n",
        "        cvp = cross_val_predict(estimator, G, y, cv=n_folds)\n",
        "        acc = accuracy_score(y, cvp)\n",
        "        print(\"Accuracy:\", str(round(acc*100, 2)) + \"%\")\n",
        "        print(classification_report(y,cvp))\n",
        "\n",
        "        # sns.heatmap(cm,cmap = sns.color_palette(\"Blues\"),annot = True"
      ],
      "metadata": {
        "id": "fDmUWl73oeF0"
      },
      "execution_count": 32,
      "outputs": []
    },
    {
      "cell_type": "code",
      "source": [
        "t0 = time.time()\n",
        "print(Classification(\"BZR\", \"ShortestPath\"))\n",
        "print(\"done in %0.3fs\\n\" % (time.time() - t0))"
      ],
      "metadata": {
        "colab": {
          "base_uri": "https://localhost:8080/"
        },
        "id": "IFSiCp3EpTws",
        "outputId": "9d63f5a0-9217-4f91-ec0c-333cc5fbbdf2"
      },
      "execution_count": 33,
      "outputs": [
        {
          "output_type": "stream",
          "name": "stdout",
          "text": [
            "Extracting dataset  BZR..\n",
            "Parsing dataset  BZR..\n",
            "Parse was succesful..\n",
            "Deleting unzipped dataset files..\n",
            "Going back to the original directory..\n",
            "Accuracy: 82.72%\n",
            "              precision    recall  f1-score   support\n",
            "\n",
            "          -1       0.84      0.97      0.90       319\n",
            "           1       0.72      0.30      0.43        86\n",
            "\n",
            "    accuracy                           0.83       405\n",
            "   macro avg       0.78      0.64      0.66       405\n",
            "weighted avg       0.81      0.83      0.80       405\n",
            "\n",
            "None\n",
            "done in 44.028s\n",
            "\n"
          ]
        }
      ]
    }
  ]
}