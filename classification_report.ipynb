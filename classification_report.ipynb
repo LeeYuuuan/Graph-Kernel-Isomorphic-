{
  "nbformat": 4,
  "nbformat_minor": 0,
  "metadata": {
    "colab": {
      "name": "classification_report.ipynb",
      "provenance": [],
      "authorship_tag": "ABX9TyOMGmxLeAfNkPnTMzP8Ji0E",
      "include_colab_link": true
    },
    "kernelspec": {
      "name": "python3",
      "display_name": "Python 3"
    },
    "language_info": {
      "name": "python"
    }
  },
  "cells": [
    {
      "cell_type": "markdown",
      "metadata": {
        "id": "view-in-github",
        "colab_type": "text"
      },
      "source": [
        "<a href=\"https://colab.research.google.com/github/LeeYuuuan/Graph-Kernel-Isomorphic-/blob/main/classification_report.ipynb\" target=\"_parent\"><img src=\"https://colab.research.google.com/assets/colab-badge.svg\" alt=\"Open In Colab\"/></a>"
      ]
    },
    {
      "cell_type": "code",
      "source": [
        "%pip install grakel\n",
        "import grakel\n",
        "import networkx as nx\n",
        "import matplotlib.pyplot as plt\n",
        "import numpy as np\n",
        "import networkx.algorithms.isomorphism as iso\n",
        "import time\n",
        "from sklearn.model_selection import cross_val_score\n",
        "from sklearn.model_selection import train_test_split\n",
        "from sklearn.svm import SVC\n",
        "from sklearn.metrics import accuracy_score\n",
        "from sklearn.metrics import roc_curve, auc\n",
        "from sklearn import metrics, svm\n",
        "from sklearn.preprocessing import label_binarize\n",
        "from sklearn.metrics import classification_report \n",
        "from sklearn.model_selection import GridSearchCV\n",
        "from sklearn.model_selection import cross_val_predict\n",
        "from sklearn.pipeline import make_pipeline\n",
        "from sklearn.multiclass import OneVsRestClassifier\n",
        "import seaborn as sns\n",
        "from sklearn.model_selection import StratifiedKFold\n",
        "from sklearn.multiclass import OneVsRestClassifier\n",
        "from grakel.kernels import WeisfeilerLehman, VertexHistogram"
      ],
      "metadata": {
        "colab": {
          "base_uri": "https://localhost:8080/"
        },
        "id": "xX-PTU83rYdn",
        "outputId": "a6b57d05-7804-434e-cb89-516465132517"
      },
      "execution_count": 16,
      "outputs": [
        {
          "output_type": "stream",
          "name": "stdout",
          "text": [
            "Looking in indexes: https://pypi.org/simple, https://us-python.pkg.dev/colab-wheels/public/simple/\n",
            "Requirement already satisfied: grakel in /usr/local/lib/python3.7/dist-packages (0.1.8)\n",
            "Requirement already satisfied: scikit-learn>=0.19 in /usr/local/lib/python3.7/dist-packages (from grakel) (1.0.2)\n",
            "Requirement already satisfied: six>=1.11.0 in /usr/local/lib/python3.7/dist-packages (from grakel) (1.15.0)\n",
            "Requirement already satisfied: future>=0.16.0 in /usr/local/lib/python3.7/dist-packages (from grakel) (0.16.0)\n",
            "Requirement already satisfied: numpy>=1.14.0 in /usr/local/lib/python3.7/dist-packages (from grakel) (1.21.6)\n",
            "Requirement already satisfied: cython>=0.27.3 in /usr/local/lib/python3.7/dist-packages (from grakel) (0.29.31)\n",
            "Requirement already satisfied: nose>=1.1.2 in /usr/local/lib/python3.7/dist-packages (from grakel) (1.3.7)\n",
            "Requirement already satisfied: joblib in /usr/local/lib/python3.7/dist-packages (from grakel) (1.1.0)\n",
            "Requirement already satisfied: scipy>=1.1.0 in /usr/local/lib/python3.7/dist-packages (from scikit-learn>=0.19->grakel) (1.7.3)\n",
            "Requirement already satisfied: threadpoolctl>=2.0.0 in /usr/local/lib/python3.7/dist-packages (from scikit-learn>=0.19->grakel) (3.1.0)\n"
          ]
        }
      ]
    },
    {
      "cell_type": "code",
      "source": [
        "def draw_graphs(G,G1):\n",
        "    pos = nx.spring_layout(G)\n",
        "    pos1 = nx.spring_layout(G1) \n",
        "    plt.subplot(121)\n",
        "    nx.draw(G, pos, with_labels=True, node_color='pink', node_size=500)\n",
        "    plt.subplot(122)\n",
        "    nx.draw(G1, pos1, with_labels=True, node_size=500)\n",
        "    plt.show()\n"
      ],
      "metadata": {
        "id": "tH6xVN54rS5n"
      },
      "execution_count": 1,
      "outputs": []
    },
    {
      "cell_type": "code",
      "source": [
        "def GetGraphData(dataset_name):\n",
        "  dataset = grakel.datasets.fetch_dataset(dataset_name, verbose=True, data_home=None, download_if_missing=True, with_classes=True, produce_labels_nodes=False, prefer_attr_nodes=False, prefer_attr_edges=False, as_graphs=False)\n",
        "  G = dataset.data\n",
        "  y = dataset.target\n",
        "  return G, y"
      ],
      "metadata": {
        "id": "26vSIPR3rSx0"
      },
      "execution_count": 2,
      "outputs": []
    },
    {
      "cell_type": "code",
      "execution_count": 17,
      "metadata": {
        "id": "648q-BRKq_-m"
      },
      "outputs": [],
      "source": [
        "def Classification(dataset_name, kernel_name):\n",
        "    G, y = GetGraphData(dataset_name)\n",
        "    G_train, G_test, y_train, y_test = train_test_split(G, y, test_size=0.1, random_state=42)\n",
        "\n",
        "    C_grid = (10. ** np.arange(-4,6,1) / len(G)).tolist()\n",
        "    if kernel_name == \"weisfeiler_lehman\":\n",
        "\n",
        "        gk = WeisfeilerLehman(n_iter=4, base_graph_kernel=VertexHistogram, normalize=True)\n",
        "        K_train = gk.fit_transform(G_train)\n",
        "        K_test = gk.transform(G_test)\n",
        "\n",
        "        \n",
        "\n",
        "        clf = SVC(kernel=\"precomputed\")\n",
        "        clf.fit(K_train, y_train)\n",
        "        y_pred = clf.predict(K_test)\n",
        "        \n",
        "        print(classification_report(y_test, y_pred))\n",
        "        print(str(round(accuracy_score(y_test, y_pred)*100, 2)), \"%\")\n",
        "    \n",
        "    if kernel_name == \"wl\":\n",
        "        estimator = make_pipeline(\n",
        "            grakel.kernels.weisfeiler_lehman(normalize=True),\n",
        "            GridSearchCV(SVC(kernel='precomputed'), dict(C=C_grid),\n",
        "                         scoring='accuracy', cv=10))\n",
        "        n_folds = 10\n",
        "        cvp = cross_val_predict(estimator, G, y, cv=n_folds)\n",
        "        acc = accuracy_score(y, cvp)\n",
        "        print(\"Accuracy:\", str(round(acc*100, 2)) + \"%\")\n",
        "        print(classification_report(y,cvp))\n",
        "      \n",
        "    \n",
        "    if kernel_name == \"ShortestPath\":\n",
        "        estimator = make_pipeline(\n",
        "            grakel.kernels.ShortestPath(normalize=True),\n",
        "            GridSearchCV(SVC(kernel='precomputed'), dict(C=C_grid),\n",
        "                        scoring='accuracy', cv=10))\n",
        "        \n",
        "        n_folds = 10\n",
        "        cvp = cross_val_predict(estimator, G, y, cv=n_folds)\n",
        "        acc = accuracy_score(y, cvp)\n",
        "        print(\"Accuracy:\", str(round(acc*100, 2)) + \"%\")\n",
        "        print(classification_report(y,cvp))\n",
        "\n",
        "        # sns.heatmap(cm,cmap = sns.color_palette(\"Blues\"),annot = True"
      ]
    },
    {
      "cell_type": "code",
      "source": [
        "t0 = time.time()\n",
        "Classification(\"BZR\", \"weisfeiler_lehman\")\n",
        "print(\"done in %0.3fs\\n\" % (time.time() - t0))"
      ],
      "metadata": {
        "colab": {
          "base_uri": "https://localhost:8080/"
        },
        "id": "QYIVOr9mrbjg",
        "outputId": "754e6df1-d43b-40a7-db43-12cac039d54a"
      },
      "execution_count": 19,
      "outputs": [
        {
          "output_type": "stream",
          "name": "stdout",
          "text": [
            "Extracting dataset  BZR..\n",
            "Parsing dataset  BZR..\n",
            "Parse was succesful..\n",
            "Deleting unzipped dataset files..\n",
            "Going back to the original directory..\n",
            "              precision    recall  f1-score   support\n",
            "\n",
            "          -1       0.85      1.00      0.92        35\n",
            "           1       0.00      0.00      0.00         6\n",
            "\n",
            "    accuracy                           0.85        41\n",
            "   macro avg       0.43      0.50      0.46        41\n",
            "weighted avg       0.73      0.85      0.79        41\n",
            "\n",
            "85.37 %\n",
            "done in 0.486s\n",
            "\n"
          ]
        },
        {
          "output_type": "stream",
          "name": "stderr",
          "text": [
            "/usr/local/lib/python3.7/dist-packages/sklearn/metrics/_classification.py:1318: UndefinedMetricWarning: Precision and F-score are ill-defined and being set to 0.0 in labels with no predicted samples. Use `zero_division` parameter to control this behavior.\n",
            "  _warn_prf(average, modifier, msg_start, len(result))\n",
            "/usr/local/lib/python3.7/dist-packages/sklearn/metrics/_classification.py:1318: UndefinedMetricWarning: Precision and F-score are ill-defined and being set to 0.0 in labels with no predicted samples. Use `zero_division` parameter to control this behavior.\n",
            "  _warn_prf(average, modifier, msg_start, len(result))\n",
            "/usr/local/lib/python3.7/dist-packages/sklearn/metrics/_classification.py:1318: UndefinedMetricWarning: Precision and F-score are ill-defined and being set to 0.0 in labels with no predicted samples. Use `zero_division` parameter to control this behavior.\n",
            "  _warn_prf(average, modifier, msg_start, len(result))\n"
          ]
        }
      ]
    }
  ]
}