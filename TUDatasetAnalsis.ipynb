{
  "nbformat": 4,
  "nbformat_minor": 0,
  "metadata": {
    "colab": {
      "name": "TUDatasetAnalsis.ipynb",
      "provenance": [],
      "collapsed_sections": [
        "p3-EvgD1AahH"
      ],
      "include_colab_link": true
    },
    "kernelspec": {
      "name": "python3",
      "display_name": "Python 3"
    },
    "language_info": {
      "name": "python"
    }
  },
  "cells": [
    {
      "cell_type": "markdown",
      "metadata": {
        "id": "view-in-github",
        "colab_type": "text"
      },
      "source": [
        "<a href=\"https://colab.research.google.com/github/LeeYuuuan/Graph-Kernel-Isomorphic-/blob/main/TUDatasetAnalsis.ipynb\" target=\"_parent\"><img src=\"https://colab.research.google.com/assets/colab-badge.svg\" alt=\"Open In Colab\"/></a>"
      ]
    },
    {
      "cell_type": "markdown",
      "source": [
        "# add dependencies"
      ],
      "metadata": {
        "id": "VSlqpwdbAOa6"
      }
    },
    {
      "cell_type": "code",
      "execution_count": null,
      "metadata": {
        "id": "0cJ0cAWHAEoP"
      },
      "outputs": [],
      "source": [
        "%pip install grakel\n",
        "import grakel\n",
        "import networkx as nx\n",
        "import matplotlib.pyplot as plt\n",
        "import numpy as np\n",
        "import networkx.algorithms.isomorphism as iso\n",
        "import pandas as pd\n",
        "import time\n",
        "from sklearn.model_selection import train_test_split\n",
        "from sklearn.svm import SVC\n",
        "from sklearn.metrics import accuracy_score\n",
        "\n"
      ]
    },
    {
      "cell_type": "markdown",
      "source": [
        "# Draw Graph"
      ],
      "metadata": {
        "id": "p3-EvgD1AahH"
      }
    },
    {
      "cell_type": "code",
      "source": [
        "def draw_graphs(Gra1,Gra2):\n",
        "    pos = nx.spring_layout(Gra1)\n",
        "    pos1 = nx.spring_layout(Gra2) \n",
        "    plt.subplot(121)\n",
        "    nx.draw(Gra1, pos, with_labels=True, node_color='pink', node_size=500)\n",
        "    plt.subplot(122)\n",
        "    nx.draw(Gra2, pos1, with_labels=True, node_size=500)\n",
        "    plt.show()"
      ],
      "metadata": {
        "id": "jHiPXZY-ARyA"
      },
      "execution_count": null,
      "outputs": []
    },
    {
      "cell_type": "markdown",
      "source": [
        "# Load Data"
      ],
      "metadata": {
        "id": "O2d9X4_SBP7X"
      }
    },
    {
      "cell_type": "code",
      "source": [
        "def GetGraphData(dataset_name):\n",
        "    dataset = grakel.datasets.fetch_dataset(dataset_name, verbose=True, data_home=None, download_if_missing=True, with_classes=True, produce_labels_nodes=False, prefer_attr_nodes=False, prefer_attr_edges=False, as_graphs=False)\n",
        "    G = dataset.data\n",
        "    y = dataset.target\n",
        "    return G, y"
      ],
      "metadata": {
        "id": "HdnAMWQsBO-8"
      },
      "execution_count": null,
      "outputs": []
    },
    {
      "cell_type": "code",
      "source": [
        "def GetGraph(an_old_graph):\n",
        "    \"\"\"\n",
        "    This function input a graph from /grakel dataset/\n",
        "    Then converted to a type [class]Graph (networkx)\n",
        "    \"\"\"\n",
        "    Graph = nx.MultiGraph()\n",
        "    Graph.add_edges_from(list(an_old_graph[0]))\n",
        "\n",
        "    if len(an_old_graph[1]) != 0:\n",
        "      for node in an_old_graph[1]:\n",
        "        Graph.add_node(node, attr=an_old_graph[1][node])\n",
        "    if len(an_old_graph[2]) !=0:\n",
        "      for edge in an_old_graph[2]:\n",
        "        Graph.add_edge(edge[0],edge[1], attr=an_old_graph[2][edge])\n",
        "  \n",
        "    return Graph"
      ],
      "metadata": {
        "id": "1uKK-MvrBe3W"
      },
      "execution_count": null,
      "outputs": []
    },
    {
      "cell_type": "code",
      "source": [
        "def GetGraphwithoutLabel(an_old_graph):\n",
        "    \"\"\"\n",
        "    This function input a graph from /grakel dataset/\n",
        "    Then converted to a type [class]Graph (networkx) \n",
        "    NOTE: without labels.\n",
        "    \"\"\"\n",
        "    Graph = nx.MultiGraph()\n",
        "    Graph.add_edges_from(list(an_old_graph[0]))\n",
        "\n",
        "    return Graph"
      ],
      "metadata": {
        "id": "Q1ivSWg2B7X1"
      },
      "execution_count": null,
      "outputs": []
    },
    {
      "cell_type": "code",
      "source": [
        "def GetAllGraph(graph_dataset):\n",
        "    \"\"\"\n",
        "    Get all Graph with type of [class]Graph\n",
        "    return a list [Graph1, Graph2, ...]\n",
        "    \"\"\"\n",
        "    Graphs = []\n",
        "    for graph_data in graph_dataset:\n",
        "      Graphs.append(GetGraph(graph_data))\n",
        "    \n",
        "    return Graphs"
      ],
      "metadata": {
        "id": "xbwYa3l2Boio"
      },
      "execution_count": null,
      "outputs": []
    },
    {
      "cell_type": "code",
      "source": [
        "def GetAllGraphwithoutLables(graph_dataset):\n",
        "    \"\"\"\n",
        "    Get all Graph with type of [class]Graph\n",
        "    return a list [Graph1, Graph2, ...]\n",
        "    \"\"\"\n",
        "    Graphs = []\n",
        "    for graph_data in graph_dataset:\n",
        "      Graphs.append(GetGraphwithoutLabel(graph_data))\n",
        "    \n",
        "    return Graphs"
      ],
      "metadata": {
        "id": "cOE4NzjzCYsa"
      },
      "execution_count": null,
      "outputs": []
    },
    {
      "cell_type": "markdown",
      "source": [
        "# Analysis "
      ],
      "metadata": {
        "id": "-UkMDV8BDQbU"
      }
    },
    {
      "cell_type": "code",
      "source": [
        "def GetSumCount(Graphs):\n",
        "    \"\"\"\n",
        "    Get the number of the graphs in the dataset.\n",
        "    \"\"\"\n",
        "    return len(Graphs)"
      ],
      "metadata": {
        "id": "xAqinKO2DP-9"
      },
      "execution_count": null,
      "outputs": []
    },
    {
      "cell_type": "code",
      "source": [
        "def GetAverageNodes(Graphs):\n",
        "    \"\"\"\n",
        "    Get the average number of nodes for a certain dataset.\n",
        "    \"\"\"\n",
        "    sum = 0\n",
        "    for Graph in Graphs:\n",
        "        sum += len(Graph.nodes())\n",
        "    \n",
        "    return sum/len(Graphs)\n"
      ],
      "metadata": {
        "id": "I_JcKBL9Djqm"
      },
      "execution_count": null,
      "outputs": []
    },
    {
      "cell_type": "code",
      "source": [
        "def GetAverageEdges(Graphs):\n",
        "    \"\"\"\n",
        "    Get the average number of edges for a certain dataset.\n",
        "    \"\"\"\n",
        "    sum = 0\n",
        "    for Graph in Graphs:\n",
        "        sum += len(Graph.edges())\n",
        "    \n",
        "    return sum/len(Graphs)/2\n"
      ],
      "metadata": {
        "id": "-tPdZcC_LQIV"
      },
      "execution_count": null,
      "outputs": []
    },
    {
      "cell_type": "code",
      "source": [
        "def GetMaxandMinNode(Graphs):\n",
        "    \"\"\"\n",
        "    Get the max and min number of nodes in Graphs.\n",
        "    \"\"\"\n",
        "    max_number = - 1\n",
        "    min_number = 999999\n",
        "    for Graph in Graphs:\n",
        "        if len(Graph.nodes()) < min_number:\n",
        "            min_number = len(Graph.nodes())\n",
        "        \n",
        "        if len(Graph.nodes()) > max_number:\n",
        "            max_number = len(Graph.nodes())\n",
        "  \n",
        "\n",
        "    return [max_number, min_number]"
      ],
      "metadata": {
        "id": "LbKxcBeWGteQ"
      },
      "execution_count": null,
      "outputs": []
    },
    {
      "cell_type": "code",
      "source": [
        "def GetSummary(name):\n",
        "    \"\"\"\n",
        "    Get the summary statisic information for a certain Dataset.\n",
        "\n",
        "    or Get for a list of Datasets.\n",
        "    \"\"\"\n",
        "    if type(name) == str :\n",
        "        G,y = GetGraphData(name)\n",
        "        Graphs = GetAllGraph(G)\n",
        "        df = pd.DataFrame(columns=[\"Name\",\"Graphs\",\"Class\",\"Average Nodes\", \"Average Edges\", \"Max number of nodes\", \"Min number of nodes\"])\n",
        "        temp_df = {\"Name\": name, \n",
        "                   \"Graphs\": GetSumCount(Graphs), \n",
        "                   \"Class\": len(set(y)), \n",
        "                   \"Average Nodes\": GetAverageNodes(Graphs),\n",
        "                   \"Average Edges\": GetAverageEdges(Graphs),\n",
        "                   \"Max number of nodes\": GetMaxandMinNode(Graphs)[0],\n",
        "                   \"Min number of nodes\": GetMaxandMinNode(Graphs)[1]\n",
        "                   }\n",
        "        df = df.append([temp_df], ignore_index=True)\n",
        "        # df.loc[0] = [name, GetSumCount(Graphs), len(set(y)), GetAverageNodes(Graphs)]\n",
        "    elif type(name) == list:\n",
        "        df = pd.DataFrame(columns=[\"Name\",\"Graphs\",\"Class\",\"Average Nodes\", \"Average Edges\", \"Max number of nodes\", \"Min number of nodes\"])\n",
        "        for dataset in name:\n",
        "            G,y = GetGraphData(dataset)\n",
        "            Graphs = GetAllGraph(G)\n",
        "            \n",
        "            temp_df = {\"Name\": dataset, \n",
        "                   \"Graphs\": GetSumCount(Graphs), \n",
        "                   \"Class\": len(set(y)), \n",
        "                   \"Average Nodes\" : GetAverageNodes(Graphs),\n",
        "                   \"Average Edges\" : GetAverageEdges(Graphs),\n",
        "                   \"Max number of nodes\": GetMaxandMinNode(Graphs)[0],\n",
        "                   \"Min number of nodes\": GetMaxandMinNode(Graphs)[1]\n",
        "                   }\n",
        "            df = df.append(temp_df, ignore_index=True)\n",
        "        \n",
        "\n",
        "\n",
        "\n",
        "    return df"
      ],
      "metadata": {
        "id": "sov4x-MhDwCx"
      },
      "execution_count": null,
      "outputs": []
    },
    {
      "cell_type": "code",
      "source": [
        "def IsIsomorphicDefault(G1,G2,is_node_labeled,is_edge_labeled):\n",
        "  \"\"\"\n",
        "  Input two Graphs G1, G2,\n",
        "  Input True/False if Node/edge is labeled or not.\n",
        "\n",
        "  return True/False if two Graphs is isomorphic or not.\n",
        "  \"\"\"\n",
        "  if is_node_labeled:\n",
        "    nm = iso.numerical_node_match(\"attr\",0)\n",
        "    if is_edge_labeled:\n",
        "      em = iso.numerical_edge_match(\"attr\",-1)\n",
        "      GM = iso.GraphMatcher(G1, G2, node_match=nm, edge_match=em)\n",
        "    else:\n",
        "      GM = iso.GraphMatcher(G1, G2, node_match=nm)\n",
        "  else:\n",
        "    if is_edge_labeled:\n",
        "      em = iso.numerical_edge_match(\"attr\",-1)\n",
        "      GM = iso.GraphMatcher(G1, G2, edge_match=em)\n",
        "    else:\n",
        "      GM = iso.GraphMatcher(G1, G2)\n",
        "  \n",
        "  return np.float64(GM.is_isomorphic())\n"
      ],
      "metadata": {
        "id": "tXzbdRvJfIVb"
      },
      "execution_count": null,
      "outputs": []
    },
    {
      "cell_type": "code",
      "source": [
        "def CreateFeatureMatrix(graphs,is_node_labeled,is_edge_labeled):\n",
        "    feature_matrix = np.zeros([len(graphs),len(graphs)])\n",
        "    for i in range(len(graphs)):\n",
        "      for j in range(len(graphs)):\n",
        "        feature_matrix[i,j] = IsIsomorphicDefault(graphs[i],graphs[j],is_node_labeled,is_edge_labeled)\n",
        "   \n",
        "  \n",
        "    return feature_matrix\n"
      ],
      "metadata": {
        "id": "G-mCCuKxggjr"
      },
      "execution_count": null,
      "outputs": []
    },
    {
      "cell_type": "code",
      "source": [
        "def GetIsomorphicFeatureMatrix(dataset_name,is_node_labeled,is_edge_labeled):\n",
        "    G, y = GetGraphData(dataset_name)\n",
        "    all_graph = GetAllGraph(G)\n",
        "    return CreateFeatureMatrix(all_graph,is_node_labeled,is_edge_labeled), y\n",
        "  "
      ],
      "metadata": {
        "id": "8wQq0ikXgptF"
      },
      "execution_count": null,
      "outputs": []
    },
    {
      "cell_type": "code",
      "source": [
        "\n",
        "def DrawIsomorphicMatrix(dataset_name, is_node_labeled, is_edge_labeled):\n",
        "\n",
        "    sumIso = 0\n",
        "    fm, y = GetIsomorphicFeatureMatrix(dataset_name,is_node_labeled,is_edge_labeled)\n",
        "            \n",
        "    plt.matshow(fm)\n",
        "    print(\"there are \",(np.sum(fm) - fm.shape[0])/2, \"pairs of graphs isomorphiced\" )\n",
        "\n"
      ],
      "metadata": {
        "id": "E_Q6bIlkgsld"
      },
      "execution_count": null,
      "outputs": []
    },
    {
      "cell_type": "markdown",
      "source": [
        "## BZR"
      ],
      "metadata": {
        "id": "nU9_nhHEBWOf"
      }
    },
    {
      "cell_type": "code",
      "source": [
        "G,y = GetGraphData(\"BZR\")\n",
        "Graphs_BZR = GetAllGraph(G)\n",
        "GraphswitoutLabel_BZR = GetAllGraphwithoutLables(G)"
      ],
      "metadata": {
        "id": "m-lndQ1VBY2d"
      },
      "execution_count": null,
      "outputs": []
    },
    {
      "cell_type": "markdown",
      "source": [
        "# Statistic"
      ],
      "metadata": {
        "id": "_edpdYlFLxdJ"
      }
    },
    {
      "cell_type": "code",
      "source": [
        "GetSummary(['BZR', 'COX2', 'DHFR', 'PTC_FM', 'PTC_FR', 'PTC_MM', 'PTC_MR','IMDB-BINARY', 'MSRC_9', 'MSRC_21', 'MSRC_21C'])"
      ],
      "metadata": {
        "colab": {
          "base_uri": "https://localhost:8080/",
          "height": 1000
        },
        "id": "UtF88uNPDDgh",
        "outputId": "f9458f01-56bd-4dea-c3b8-be644e888ce2"
      },
      "execution_count": null,
      "outputs": [
        {
          "output_type": "stream",
          "name": "stdout",
          "text": [
            "Extracting dataset  BZR..\n",
            "Parsing dataset  BZR..\n",
            "Parse was succesful..\n",
            "Deleting unzipped dataset files..\n",
            "Going back to the original directory..\n",
            "Extracting dataset  COX2..\n",
            "Parsing dataset  COX2..\n",
            "Parse was succesful..\n",
            "Deleting unzipped dataset files..\n",
            "Going back to the original directory..\n",
            "Extracting dataset  DHFR..\n",
            "Parsing dataset  DHFR..\n",
            "Parse was succesful..\n",
            "Deleting unzipped dataset files..\n",
            "Going back to the original directory..\n",
            "Extracting dataset  PTC_FM..\n",
            "Parsing dataset  PTC_FM..\n",
            "Parse was succesful..\n",
            "Deleting unzipped dataset files..\n",
            "Going back to the original directory..\n",
            "Extracting dataset  PTC_FR..\n",
            "Parsing dataset  PTC_FR..\n",
            "Parse was succesful..\n",
            "Deleting unzipped dataset files..\n",
            "Going back to the original directory..\n",
            "Extracting dataset  PTC_MM..\n",
            "Parsing dataset  PTC_MM..\n",
            "Parse was succesful..\n",
            "Deleting unzipped dataset files..\n",
            "Going back to the original directory..\n",
            "Extracting dataset  PTC_MR..\n",
            "Parsing dataset  PTC_MR..\n",
            "Parse was succesful..\n",
            "Deleting unzipped dataset files..\n",
            "Going back to the original directory..\n",
            "Extracting dataset  IMDB-BINARY..\n",
            "Parsing dataset  IMDB-BINARY..\n",
            "Parse was succesful..\n",
            "Deleting unzipped dataset files..\n",
            "Going back to the original directory..\n",
            "Extracting dataset  MSRC_9..\n",
            "Parsing dataset  MSRC_9..\n",
            "Parse was succesful..\n",
            "Deleting unzipped dataset files..\n",
            "Going back to the original directory..\n",
            "Extracting dataset  MSRC_21..\n",
            "Parsing dataset  MSRC_21..\n",
            "Parse was succesful..\n",
            "Deleting unzipped dataset files..\n",
            "Going back to the original directory..\n",
            "Extracting dataset  MSRC_21C..\n",
            "Parsing dataset  MSRC_21C..\n",
            "Parse was succesful..\n",
            "Deleting unzipped dataset files..\n",
            "Going back to the original directory..\n"
          ]
        },
        {
          "output_type": "execute_result",
          "data": {
            "text/plain": [
              "           Name Graphs Class  Average Nodes  Average Edges  \\\n",
              "0           BZR    405     2      35.750617      38.358025   \n",
              "1          COX2    467     2      41.224839      43.445396   \n",
              "2          DHFR    756     2      42.427249      44.544974   \n",
              "3        PTC_FM    349     2      14.111748      28.968481   \n",
              "4        PTC_FR    351     2      14.558405      30.005698   \n",
              "5        PTC_MM    336     2      13.973214      28.642857   \n",
              "6        PTC_MR    344     2      14.287791      29.383721   \n",
              "7   IMDB-BINARY   1000     2      19.773000      96.531000   \n",
              "8        MSRC_9    221     8      40.579186      97.936652   \n",
              "9       MSRC_21    563    20      77.520426     198.323268   \n",
              "10     MSRC_21C    209    17      40.277512      96.602871   \n",
              "\n",
              "   Max number of nodes Min number of nodes  \n",
              "0                   57                  13  \n",
              "1                   56                  32  \n",
              "2                   71                  20  \n",
              "3                   64                   2  \n",
              "4                   64                   2  \n",
              "5                   64                   2  \n",
              "6                   64                   2  \n",
              "7                  136                  12  \n",
              "8                   55                  25  \n",
              "9                  141                  51  \n",
              "10                  57                  25  "
            ],
            "text/html": [
              "\n",
              "  <div id=\"df-755dfdad-0d66-4796-9724-9abf3afc617d\">\n",
              "    <div class=\"colab-df-container\">\n",
              "      <div>\n",
              "<style scoped>\n",
              "    .dataframe tbody tr th:only-of-type {\n",
              "        vertical-align: middle;\n",
              "    }\n",
              "\n",
              "    .dataframe tbody tr th {\n",
              "        vertical-align: top;\n",
              "    }\n",
              "\n",
              "    .dataframe thead th {\n",
              "        text-align: right;\n",
              "    }\n",
              "</style>\n",
              "<table border=\"1\" class=\"dataframe\">\n",
              "  <thead>\n",
              "    <tr style=\"text-align: right;\">\n",
              "      <th></th>\n",
              "      <th>Name</th>\n",
              "      <th>Graphs</th>\n",
              "      <th>Class</th>\n",
              "      <th>Average Nodes</th>\n",
              "      <th>Average Edges</th>\n",
              "      <th>Max number of nodes</th>\n",
              "      <th>Min number of nodes</th>\n",
              "    </tr>\n",
              "  </thead>\n",
              "  <tbody>\n",
              "    <tr>\n",
              "      <th>0</th>\n",
              "      <td>BZR</td>\n",
              "      <td>405</td>\n",
              "      <td>2</td>\n",
              "      <td>35.750617</td>\n",
              "      <td>38.358025</td>\n",
              "      <td>57</td>\n",
              "      <td>13</td>\n",
              "    </tr>\n",
              "    <tr>\n",
              "      <th>1</th>\n",
              "      <td>COX2</td>\n",
              "      <td>467</td>\n",
              "      <td>2</td>\n",
              "      <td>41.224839</td>\n",
              "      <td>43.445396</td>\n",
              "      <td>56</td>\n",
              "      <td>32</td>\n",
              "    </tr>\n",
              "    <tr>\n",
              "      <th>2</th>\n",
              "      <td>DHFR</td>\n",
              "      <td>756</td>\n",
              "      <td>2</td>\n",
              "      <td>42.427249</td>\n",
              "      <td>44.544974</td>\n",
              "      <td>71</td>\n",
              "      <td>20</td>\n",
              "    </tr>\n",
              "    <tr>\n",
              "      <th>3</th>\n",
              "      <td>PTC_FM</td>\n",
              "      <td>349</td>\n",
              "      <td>2</td>\n",
              "      <td>14.111748</td>\n",
              "      <td>28.968481</td>\n",
              "      <td>64</td>\n",
              "      <td>2</td>\n",
              "    </tr>\n",
              "    <tr>\n",
              "      <th>4</th>\n",
              "      <td>PTC_FR</td>\n",
              "      <td>351</td>\n",
              "      <td>2</td>\n",
              "      <td>14.558405</td>\n",
              "      <td>30.005698</td>\n",
              "      <td>64</td>\n",
              "      <td>2</td>\n",
              "    </tr>\n",
              "    <tr>\n",
              "      <th>5</th>\n",
              "      <td>PTC_MM</td>\n",
              "      <td>336</td>\n",
              "      <td>2</td>\n",
              "      <td>13.973214</td>\n",
              "      <td>28.642857</td>\n",
              "      <td>64</td>\n",
              "      <td>2</td>\n",
              "    </tr>\n",
              "    <tr>\n",
              "      <th>6</th>\n",
              "      <td>PTC_MR</td>\n",
              "      <td>344</td>\n",
              "      <td>2</td>\n",
              "      <td>14.287791</td>\n",
              "      <td>29.383721</td>\n",
              "      <td>64</td>\n",
              "      <td>2</td>\n",
              "    </tr>\n",
              "    <tr>\n",
              "      <th>7</th>\n",
              "      <td>IMDB-BINARY</td>\n",
              "      <td>1000</td>\n",
              "      <td>2</td>\n",
              "      <td>19.773000</td>\n",
              "      <td>96.531000</td>\n",
              "      <td>136</td>\n",
              "      <td>12</td>\n",
              "    </tr>\n",
              "    <tr>\n",
              "      <th>8</th>\n",
              "      <td>MSRC_9</td>\n",
              "      <td>221</td>\n",
              "      <td>8</td>\n",
              "      <td>40.579186</td>\n",
              "      <td>97.936652</td>\n",
              "      <td>55</td>\n",
              "      <td>25</td>\n",
              "    </tr>\n",
              "    <tr>\n",
              "      <th>9</th>\n",
              "      <td>MSRC_21</td>\n",
              "      <td>563</td>\n",
              "      <td>20</td>\n",
              "      <td>77.520426</td>\n",
              "      <td>198.323268</td>\n",
              "      <td>141</td>\n",
              "      <td>51</td>\n",
              "    </tr>\n",
              "    <tr>\n",
              "      <th>10</th>\n",
              "      <td>MSRC_21C</td>\n",
              "      <td>209</td>\n",
              "      <td>17</td>\n",
              "      <td>40.277512</td>\n",
              "      <td>96.602871</td>\n",
              "      <td>57</td>\n",
              "      <td>25</td>\n",
              "    </tr>\n",
              "  </tbody>\n",
              "</table>\n",
              "</div>\n",
              "      <button class=\"colab-df-convert\" onclick=\"convertToInteractive('df-755dfdad-0d66-4796-9724-9abf3afc617d')\"\n",
              "              title=\"Convert this dataframe to an interactive table.\"\n",
              "              style=\"display:none;\">\n",
              "        \n",
              "  <svg xmlns=\"http://www.w3.org/2000/svg\" height=\"24px\"viewBox=\"0 0 24 24\"\n",
              "       width=\"24px\">\n",
              "    <path d=\"M0 0h24v24H0V0z\" fill=\"none\"/>\n",
              "    <path d=\"M18.56 5.44l.94 2.06.94-2.06 2.06-.94-2.06-.94-.94-2.06-.94 2.06-2.06.94zm-11 1L8.5 8.5l.94-2.06 2.06-.94-2.06-.94L8.5 2.5l-.94 2.06-2.06.94zm10 10l.94 2.06.94-2.06 2.06-.94-2.06-.94-.94-2.06-.94 2.06-2.06.94z\"/><path d=\"M17.41 7.96l-1.37-1.37c-.4-.4-.92-.59-1.43-.59-.52 0-1.04.2-1.43.59L10.3 9.45l-7.72 7.72c-.78.78-.78 2.05 0 2.83L4 21.41c.39.39.9.59 1.41.59.51 0 1.02-.2 1.41-.59l7.78-7.78 2.81-2.81c.8-.78.8-2.07 0-2.86zM5.41 20L4 18.59l7.72-7.72 1.47 1.35L5.41 20z\"/>\n",
              "  </svg>\n",
              "      </button>\n",
              "      \n",
              "  <style>\n",
              "    .colab-df-container {\n",
              "      display:flex;\n",
              "      flex-wrap:wrap;\n",
              "      gap: 12px;\n",
              "    }\n",
              "\n",
              "    .colab-df-convert {\n",
              "      background-color: #E8F0FE;\n",
              "      border: none;\n",
              "      border-radius: 50%;\n",
              "      cursor: pointer;\n",
              "      display: none;\n",
              "      fill: #1967D2;\n",
              "      height: 32px;\n",
              "      padding: 0 0 0 0;\n",
              "      width: 32px;\n",
              "    }\n",
              "\n",
              "    .colab-df-convert:hover {\n",
              "      background-color: #E2EBFA;\n",
              "      box-shadow: 0px 1px 2px rgba(60, 64, 67, 0.3), 0px 1px 3px 1px rgba(60, 64, 67, 0.15);\n",
              "      fill: #174EA6;\n",
              "    }\n",
              "\n",
              "    [theme=dark] .colab-df-convert {\n",
              "      background-color: #3B4455;\n",
              "      fill: #D2E3FC;\n",
              "    }\n",
              "\n",
              "    [theme=dark] .colab-df-convert:hover {\n",
              "      background-color: #434B5C;\n",
              "      box-shadow: 0px 1px 3px 1px rgba(0, 0, 0, 0.15);\n",
              "      filter: drop-shadow(0px 1px 2px rgba(0, 0, 0, 0.3));\n",
              "      fill: #FFFFFF;\n",
              "    }\n",
              "  </style>\n",
              "\n",
              "      <script>\n",
              "        const buttonEl =\n",
              "          document.querySelector('#df-755dfdad-0d66-4796-9724-9abf3afc617d button.colab-df-convert');\n",
              "        buttonEl.style.display =\n",
              "          google.colab.kernel.accessAllowed ? 'block' : 'none';\n",
              "\n",
              "        async function convertToInteractive(key) {\n",
              "          const element = document.querySelector('#df-755dfdad-0d66-4796-9724-9abf3afc617d');\n",
              "          const dataTable =\n",
              "            await google.colab.kernel.invokeFunction('convertToInteractive',\n",
              "                                                     [key], {});\n",
              "          if (!dataTable) return;\n",
              "\n",
              "          const docLinkHtml = 'Like what you see? Visit the ' +\n",
              "            '<a target=\"_blank\" href=https://colab.research.google.com/notebooks/data_table.ipynb>data table notebook</a>'\n",
              "            + ' to learn more about interactive tables.';\n",
              "          element.innerHTML = '';\n",
              "          dataTable['output_type'] = 'display_data';\n",
              "          await google.colab.output.renderOutput(dataTable, element);\n",
              "          const docLink = document.createElement('div');\n",
              "          docLink.innerHTML = docLinkHtml;\n",
              "          element.appendChild(docLink);\n",
              "        }\n",
              "      </script>\n",
              "    </div>\n",
              "  </div>\n",
              "  "
            ]
          },
          "metadata": {},
          "execution_count": 63
        }
      ]
    },
    {
      "cell_type": "code",
      "source": [
        "def GetNodeDistribution(dataset_name):\n",
        "    \"\"\"\n",
        "    draw the node distribution histogram.\n",
        "    \"\"\"\n",
        "    G,y = GetGraphData(dataset_name)\n",
        "    Graphs = GetAllGraph(G)\n",
        "    node_count = []\n",
        "\n",
        "    for graph in Graphs:\n",
        "        node_count.append(len(graph.nodes()))\n",
        "    \n",
        "\n",
        "    label_bins = len(np.unique(y))\n",
        "\n",
        "    max_nodes = GetMaxandMinNode(Graphs)[0]\n",
        "    print(\"VISUALIZATIONS:\\nMax nodes in consideration: {}\".format(max_nodes))\n",
        "    plt.figure(figsize=(12, 5))\n",
        "    plt.subplot(121)\n",
        "    \n",
        "    plt.hist(node_count, bins=len(np.unique(node_count)))\n",
        "    plt.xlabel('Number of Nodes in Graph', fontsize=12)\n",
        "    plt.ylabel('Count', fontsize=12)\n",
        "\n",
        "    plt.subplot(122)\n",
        "    plt.hist2d(y, node_count, bins=[label_bins, 20])\n",
        "    plt.xlabel(r'Graph label', fontsize=12)\n",
        "    plt.ylabel(r'Graph size (number of nodes)', fontsize=12)\n",
        "    plt.colorbar()\n",
        "    plt.show()\n",
        "    \n",
        "    print(\"Correlation between graph size (number of nodes) and labels: %.2f\" % np.corrcoef(y, node_count)[0,1])"
      ],
      "metadata": {
        "id": "K9Cu_0sQKdr9"
      },
      "execution_count": null,
      "outputs": []
    },
    {
      "cell_type": "code",
      "source": [
        "GetNodeDistribution(\"BZR\")"
      ],
      "metadata": {
        "colab": {
          "base_uri": "https://localhost:8080/",
          "height": 480
        },
        "id": "Ozux9owle3Rb",
        "outputId": "cd441105-dae0-464b-f94b-d2ccdece4b15"
      },
      "execution_count": null,
      "outputs": [
        {
          "output_type": "stream",
          "name": "stdout",
          "text": [
            "Extracting dataset  BZR..\n",
            "Parsing dataset  BZR..\n",
            "Parse was succesful..\n",
            "Deleting unzipped dataset files..\n",
            "Going back to the original directory..\n",
            "VISUALIZATIONS:\n",
            "Max nodes in consideration: 57\n"
          ]
        },
        {
          "output_type": "display_data",
          "data": {
            "text/plain": [
              "<Figure size 864x360 with 3 Axes>"
            ],
            "image/png": "[encoded data removed]"
          },
          "metadata": {
            "needs_background": "light"
          }
        },
        {
          "output_type": "stream",
          "name": "stdout",
          "text": [
            "Correlation between graph size (number of nodes) and labels: -0.22\n"
          ]
        }
      ]
    },
    {
      "cell_type": "code",
      "source": [
        "GetNodeDistribution(\"COX2\")"
      ],
      "metadata": {
        "colab": {
          "base_uri": "https://localhost:8080/",
          "height": 480
        },
        "id": "acwUvDPRKkGj",
        "outputId": "f70d9d56-f231-40a3-d413-59fd1dd09ffe"
      },
      "execution_count": null,
      "outputs": [
        {
          "output_type": "stream",
          "name": "stdout",
          "text": [
            "Extracting dataset  COX2..\n",
            "Parsing dataset  COX2..\n",
            "Parse was succesful..\n",
            "Deleting unzipped dataset files..\n",
            "Going back to the original directory..\n",
            "VISUALIZATIONS:\n",
            "Max nodes in consideration: 56\n"
          ]
        },
        {
          "output_type": "display_data",
          "data": {
            "text/plain": [
              "<Figure size 864x360 with 3 Axes>"
            ],
            "image/png": "[encoded data removed]"
          },
          "metadata": {
            "needs_background": "light"
          }
        },
        {
          "output_type": "stream",
          "name": "stdout",
          "text": [
            "Correlation between graph size (number of nodes) and labels: -0.06\n"
          ]
        }
      ]
    },
    {
      "cell_type": "code",
      "source": [
        "GetNodeDistribution(\"DHFR\")"
      ],
      "metadata": {
        "colab": {
          "base_uri": "https://localhost:8080/",
          "height": 480
        },
        "id": "u8gYaLVUKz1j",
        "outputId": "643bedf7-c0aa-447d-f137-b266deadffcd"
      },
      "execution_count": null,
      "outputs": [
        {
          "output_type": "stream",
          "name": "stdout",
          "text": [
            "Extracting dataset  DHFR..\n",
            "Parsing dataset  DHFR..\n",
            "Parse was succesful..\n",
            "Deleting unzipped dataset files..\n",
            "Going back to the original directory..\n",
            "VISUALIZATIONS:\n",
            "Max nodes in consideration: 71\n"
          ]
        },
        {
          "output_type": "display_data",
          "data": {
            "text/plain": [
              "<Figure size 864x360 with 3 Axes>"
            ],
            "image/png": "[encoded data removed]"
          },
          "metadata": {
            "needs_background": "light"
          }
        },
        {
          "output_type": "stream",
          "name": "stdout",
          "text": [
            "Correlation between graph size (number of nodes) and labels: -0.16\n"
          ]
        }
      ]
    },
    {
      "cell_type": "code",
      "source": [
        "GetNodeDistribution(\"PTC_FM\")"
      ],
      "metadata": {
        "colab": {
          "base_uri": "https://localhost:8080/",
          "height": 480
        },
        "id": "5HGwJrbrKzqX",
        "outputId": "4165cc5c-4e2f-4941-95e7-ad632cc4abe9"
      },
      "execution_count": null,
      "outputs": [
        {
          "output_type": "stream",
          "name": "stdout",
          "text": [
            "Extracting dataset  PTC_FM..\n",
            "Parsing dataset  PTC_FM..\n",
            "Parse was succesful..\n",
            "Deleting unzipped dataset files..\n",
            "Going back to the original directory..\n",
            "VISUALIZATIONS:\n",
            "Max nodes in consideration: 64\n"
          ]
        },
        {
          "output_type": "display_data",
          "data": {
            "text/plain": [
              "<Figure size 864x360 with 3 Axes>"
            ],
            "image/png": "[encoded data removed]"
          },
          "metadata": {
            "needs_background": "light"
          }
        },
        {
          "output_type": "stream",
          "name": "stdout",
          "text": [
            "Correlation between graph size (number of nodes) and labels: -0.08\n"
          ]
        }
      ]
    },
    {
      "cell_type": "code",
      "source": [
        "GetNodeDistribution(\"PTC_FR\")"
      ],
      "metadata": {
        "colab": {
          "base_uri": "https://localhost:8080/",
          "height": 484
        },
        "id": "k6cV0Kn7Kzne",
        "outputId": "10be719d-4c81-4fe8-8814-834ebe26a306"
      },
      "execution_count": null,
      "outputs": [
        {
          "output_type": "stream",
          "name": "stdout",
          "text": [
            "Extracting dataset  PTC_FR..\n",
            "Parsing dataset  PTC_FR..\n",
            "Parse was succesful..\n",
            "Deleting unzipped dataset files..\n",
            "Going back to the original directory..\n",
            "VISUALIZATIONS:\n",
            "Max nodes in consideration: 64\n"
          ]
        },
        {
          "output_type": "display_data",
          "data": {
            "text/plain": [
              "<Figure size 864x360 with 3 Axes>"
            ],
            "image/png": "[encoded data removed]"
          },
          "metadata": {
            "needs_background": "light"
          }
        },
        {
          "output_type": "stream",
          "name": "stdout",
          "text": [
            "Correlation between graph size (number of nodes) and labels: -0.03\n"
          ]
        }
      ]
    },
    {
      "cell_type": "code",
      "source": [
        "GetNodeDistribution(\"PTC_MM\")"
      ],
      "metadata": {
        "colab": {
          "base_uri": "https://localhost:8080/",
          "height": 480
        },
        "id": "fA8HTPXmKzlM",
        "outputId": "438f34bd-62f7-4e18-e3d4-29fe51e620b4"
      },
      "execution_count": null,
      "outputs": [
        {
          "output_type": "stream",
          "name": "stdout",
          "text": [
            "Extracting dataset  PTC_MM..\n",
            "Parsing dataset  PTC_MM..\n",
            "Parse was succesful..\n",
            "Deleting unzipped dataset files..\n",
            "Going back to the original directory..\n",
            "VISUALIZATIONS:\n",
            "Max nodes in consideration: 64\n"
          ]
        },
        {
          "output_type": "display_data",
          "data": {
            "text/plain": [
              "<Figure size 864x360 with 3 Axes>"
            ],
            "image/png": "[encoded data removed]"
          },
          "metadata": {
            "needs_background": "light"
          }
        },
        {
          "output_type": "stream",
          "name": "stdout",
          "text": [
            "Correlation between graph size (number of nodes) and labels: -0.06\n"
          ]
        }
      ]
    },
    {
      "cell_type": "code",
      "source": [
        "GetNodeDistribution(\"PTC_MR\")"
      ],
      "metadata": {
        "colab": {
          "base_uri": "https://localhost:8080/",
          "height": 480
        },
        "id": "SyeuSn1mKzjT",
        "outputId": "ce6aae2d-8415-416a-9366-75299d12a523"
      },
      "execution_count": null,
      "outputs": [
        {
          "output_type": "stream",
          "name": "stdout",
          "text": [
            "Extracting dataset  PTC_MR..\n",
            "Parsing dataset  PTC_MR..\n",
            "Parse was succesful..\n",
            "Deleting unzipped dataset files..\n",
            "Going back to the original directory..\n",
            "VISUALIZATIONS:\n",
            "Max nodes in consideration: 64\n"
          ]
        },
        {
          "output_type": "display_data",
          "data": {
            "text/plain": [
              "<Figure size 864x360 with 3 Axes>"
            ],
            "image/png": "[encoded data removed]"
          },
          "metadata": {
            "needs_background": "light"
          }
        },
        {
          "output_type": "stream",
          "name": "stdout",
          "text": [
            "Correlation between graph size (number of nodes) and labels: -0.06\n"
          ]
        }
      ]
    },
    {
      "cell_type": "code",
      "source": [
        "GetNodeDistribution(\"IMDB-BINARY\")"
      ],
      "metadata": {
        "colab": {
          "base_uri": "https://localhost:8080/",
          "height": 480
        },
        "id": "4INUlBSWKzgu",
        "outputId": "310637f1-62ec-4780-a9c0-5dd99deb7583"
      },
      "execution_count": null,
      "outputs": [
        {
          "output_type": "stream",
          "name": "stdout",
          "text": [
            "Extracting dataset  IMDB-BINARY..\n",
            "Parsing dataset  IMDB-BINARY..\n",
            "Parse was succesful..\n",
            "Deleting unzipped dataset files..\n",
            "Going back to the original directory..\n",
            "VISUALIZATIONS:\n",
            "Max nodes in consideration: 136\n"
          ]
        },
        {
          "output_type": "display_data",
          "data": {
            "text/plain": [
              "<Figure size 864x360 with 3 Axes>"
            ],
            "image/png": "[encoded data removed]"
          },
          "metadata": {
            "needs_background": "light"
          }
        },
        {
          "output_type": "stream",
          "name": "stdout",
          "text": [
            "Correlation between graph size (number of nodes) and labels: -0.03\n"
          ]
        }
      ]
    },
    {
      "cell_type": "code",
      "source": [
        "GetNodeDistribution(\"MSRC_9\")"
      ],
      "metadata": {
        "colab": {
          "base_uri": "https://localhost:8080/",
          "height": 484
        },
        "id": "fCEeaE-5KzZJ",
        "outputId": "813a4846-1745-4d7d-cb35-ca3de8575664"
      },
      "execution_count": null,
      "outputs": [
        {
          "output_type": "stream",
          "name": "stdout",
          "text": [
            "Extracting dataset  MSRC_9..\n",
            "Parsing dataset  MSRC_9..\n",
            "Parse was succesful..\n",
            "Deleting unzipped dataset files..\n",
            "Going back to the original directory..\n",
            "VISUALIZATIONS:\n",
            "Max nodes in consideration: 55\n"
          ]
        },
        {
          "output_type": "display_data",
          "data": {
            "text/plain": [
              "<Figure size 864x360 with 3 Axes>"
            ],
            "image/png": "[encoded data removed]"
          },
          "metadata": {
            "needs_background": "light"
          }
        },
        {
          "output_type": "stream",
          "name": "stdout",
          "text": [
            "Correlation between graph size (number of nodes) and labels: 0.11\n"
          ]
        }
      ]
    },
    {
      "cell_type": "code",
      "source": [
        "GetNodeDistribution(\"MSRC_21\")"
      ],
      "metadata": {
        "colab": {
          "base_uri": "https://localhost:8080/",
          "height": 484
        },
        "id": "Th6gSfaJK3hP",
        "outputId": "8502f279-86cb-414f-ef33-ea8d81377caf"
      },
      "execution_count": null,
      "outputs": [
        {
          "output_type": "stream",
          "name": "stdout",
          "text": [
            "Extracting dataset  MSRC_21..\n",
            "Parsing dataset  MSRC_21..\n",
            "Parse was succesful..\n",
            "Deleting unzipped dataset files..\n",
            "Going back to the original directory..\n",
            "VISUALIZATIONS:\n",
            "Max nodes in consideration: 141\n"
          ]
        },
        {
          "output_type": "display_data",
          "data": {
            "text/plain": [
              "<Figure size 864x360 with 3 Axes>"
            ],
            "image/png": "[encoded data removed]"
          },
          "metadata": {
            "needs_background": "light"
          }
        },
        {
          "output_type": "stream",
          "name": "stdout",
          "text": [
            "Correlation between graph size (number of nodes) and labels: 0.19\n"
          ]
        }
      ]
    },
    {
      "cell_type": "code",
      "source": [
        "GetNodeDistribution(\"MSRC_21C\")"
      ],
      "metadata": {
        "colab": {
          "base_uri": "https://localhost:8080/",
          "height": 484
        },
        "id": "erutYZdeLKNj",
        "outputId": "acb751f0-b154-4b61-f665-a3f832f764d4"
      },
      "execution_count": null,
      "outputs": [
        {
          "output_type": "stream",
          "name": "stdout",
          "text": [
            "Extracting dataset  MSRC_21C..\n",
            "Parsing dataset  MSRC_21C..\n",
            "Parse was succesful..\n",
            "Deleting unzipped dataset files..\n",
            "Going back to the original directory..\n",
            "VISUALIZATIONS:\n",
            "Max nodes in consideration: 57\n"
          ]
        },
        {
          "output_type": "display_data",
          "data": {
            "text/plain": [
              "<Figure size 864x360 with 3 Axes>"
            ],
            "image/png": "[encoded data removed]"
          },
          "metadata": {
            "needs_background": "light"
          }
        },
        {
          "output_type": "stream",
          "name": "stdout",
          "text": [
            "Correlation between graph size (number of nodes) and labels: 0.18\n"
          ]
        }
      ]
    },
    {
      "cell_type": "markdown",
      "source": [
        "# Isomorphic Matrix and Number."
      ],
      "metadata": {
        "id": "GpOUA3O_lOX3"
      }
    },
    {
      "cell_type": "markdown",
      "source": [
        "## without Label"
      ],
      "metadata": {
        "id": "52KoSt3PmlqY"
      }
    },
    {
      "cell_type": "code",
      "source": [
        "['BZR', 'COX2', 'DHFR', 'PTC_FM', 'PTC_FR', 'PTC_MM', 'PTC_MR','IMDB-BINARY', 'MSRC_9', 'MSRC_21', 'MSRC_21C']"
      ],
      "metadata": {
        "id": "Ku7CA3vrlYkm"
      },
      "execution_count": null,
      "outputs": []
    },
    {
      "cell_type": "code",
      "source": [
        "t0 = time.time()\n",
        "DrawIsomorphicMatrix(\"BZR\", False, False)\n",
        "print(\"done in %0.3fs\\n\" % (time.time() - t0))"
      ],
      "metadata": {
        "colab": {
          "base_uri": "https://localhost:8080/",
          "height": 418
        },
        "id": "1ndKyFgrlNAx",
        "outputId": "2c5cee5b-f056-488b-99ce-746e1f225fbd"
      },
      "execution_count": null,
      "outputs": [
        {
          "output_type": "stream",
          "name": "stdout",
          "text": [
            "Extracting dataset  BZR..\n",
            "Parsing dataset  BZR..\n",
            "Parse was succesful..\n",
            "Deleting unzipped dataset files..\n",
            "Going back to the original directory..\n",
            "there are  491.0 pairs of graphs isomorphiced\n",
            "done in 29.867s\n",
            "\n"
          ]
        },
        {
          "output_type": "display_data",
          "data": {
            "text/plain": [
              "<Figure size 288x288 with 1 Axes>"
            ],
            "image/png": "[encoded data removed]"
          },
          "metadata": {
            "needs_background": "light"
          }
        }
      ]
    },
    {
      "cell_type": "code",
      "source": [
        "t0 = time.time()\n",
        "DrawIsomorphicMatrix(\"COX2\", False, False)\n",
        "print(\"done in %0.3fs\\n\" % (time.time() - t0))"
      ],
      "metadata": {
        "colab": {
          "base_uri": "https://localhost:8080/",
          "height": 418
        },
        "id": "Zl9Qkk_IlSbH",
        "outputId": "5c26dc29-379c-4a3c-e0f4-3b63495bb82b"
      },
      "execution_count": null,
      "outputs": [
        {
          "output_type": "stream",
          "name": "stdout",
          "text": [
            "Extracting dataset  COX2..\n",
            "Parsing dataset  COX2..\n",
            "Parse was succesful..\n",
            "Deleting unzipped dataset files..\n",
            "Going back to the original directory..\n",
            "there are  655.0 pairs of graphs isomorphiced\n",
            "done in 93.473s\n",
            "\n"
          ]
        },
        {
          "output_type": "display_data",
          "data": {
            "text/plain": [
              "<Figure size 288x288 with 1 Axes>"
            ],
            "image/png": "[encoded data removed]"
          },
          "metadata": {
            "needs_background": "light"
          }
        }
      ]
    },
    {
      "cell_type": "code",
      "source": [
        "t0 = time.time()\n",
        "DrawIsomorphicMatrix(\"DHFR\", False, False)\n",
        "print(\"done in %0.3fs\\n\" % (time.time() - t0))"
      ],
      "metadata": {
        "colab": {
          "base_uri": "https://localhost:8080/",
          "height": 418
        },
        "id": "rubxGbWynb30",
        "outputId": "6c8dbd3e-2d6d-4aad-9a24-b50a9745f385"
      },
      "execution_count": null,
      "outputs": [
        {
          "output_type": "stream",
          "name": "stdout",
          "text": [
            "Extracting dataset  DHFR..\n",
            "Parsing dataset  DHFR..\n",
            "Parse was succesful..\n",
            "Deleting unzipped dataset files..\n",
            "Going back to the original directory..\n",
            "there are  409.0 pairs of graphs isomorphiced\n",
            "done in 163.218s\n",
            "\n"
          ]
        },
        {
          "output_type": "display_data",
          "data": {
            "text/plain": [
              "<Figure size 288x288 with 1 Axes>"
            ],
            "image/png": "[encoded data removed]"
          },
          "metadata": {
            "needs_background": "light"
          }
        }
      ]
    },
    {
      "cell_type": "code",
      "source": [
        "t0 = time.time()\n",
        "\n",
        "DrawIsomorphicMatrix(\"PTC_FM\", False, False)\n",
        "print(\"done in %0.3fs\\n\" % (time.time() - t0))"
      ],
      "metadata": {
        "colab": {
          "base_uri": "https://localhost:8080/",
          "height": 418
        },
        "id": "-bQ-s_tnnb2A",
        "outputId": "1eda1de3-b499-4449-f3b3-71fa7ef857e6"
      },
      "execution_count": null,
      "outputs": [
        {
          "output_type": "stream",
          "name": "stdout",
          "text": [
            "Extracting dataset  PTC_FM..\n",
            "Parsing dataset  PTC_FM..\n",
            "Parse was succesful..\n",
            "Deleting unzipped dataset files..\n",
            "Going back to the original directory..\n",
            "there are  238.0 pairs of graphs isomorphiced\n",
            "done in 3.557s\n",
            "\n"
          ]
        },
        {
          "output_type": "display_data",
          "data": {
            "text/plain": [
              "<Figure size 288x288 with 1 Axes>"
            ],
            "image/png": "[encoded data removed]"
          },
          "metadata": {
            "needs_background": "light"
          }
        }
      ]
    },
    {
      "cell_type": "code",
      "source": [
        "t0 = time.time()\n",
        "DrawIsomorphicMatrix(\"PTC_MM\", False, False)\n",
        "print(\"done in %0.3fs\\n\" % (time.time() - t0))"
      ],
      "metadata": {
        "colab": {
          "base_uri": "https://localhost:8080/",
          "height": 418
        },
        "id": "rjn1pOuRnbzt",
        "outputId": "4c756884-abc9-4292-d545-23478ebb6c81"
      },
      "execution_count": null,
      "outputs": [
        {
          "output_type": "stream",
          "name": "stdout",
          "text": [
            "Extracting dataset  PTC_MM..\n",
            "Parsing dataset  PTC_MM..\n",
            "Parse was succesful..\n",
            "Deleting unzipped dataset files..\n",
            "Going back to the original directory..\n",
            "there are  257.0 pairs of graphs isomorphiced\n",
            "done in 3.552s\n",
            "\n"
          ]
        },
        {
          "output_type": "display_data",
          "data": {
            "text/plain": [
              "<Figure size 288x288 with 1 Axes>"
            ],
            "image/png": "[encoded data removed]"
          },
          "metadata": {
            "needs_background": "light"
          }
        }
      ]
    },
    {
      "cell_type": "code",
      "source": [
        "t0 = time.time()\n",
        "DrawIsomorphicMatrix(\"PTC_MR\", False, False)\n",
        "print(\"done in %0.3fs\\n\" % (time.time() - t0))"
      ],
      "metadata": {
        "colab": {
          "base_uri": "https://localhost:8080/",
          "height": 418
        },
        "id": "JU1o28fwnbxk",
        "outputId": "3a85d3ce-e300-4164-b436-46927d402d44"
      },
      "execution_count": null,
      "outputs": [
        {
          "output_type": "stream",
          "name": "stdout",
          "text": [
            "Extracting dataset  PTC_MR..\n",
            "Parsing dataset  PTC_MR..\n",
            "Parse was succesful..\n",
            "Deleting unzipped dataset files..\n",
            "Going back to the original directory..\n",
            "there are  243.0 pairs of graphs isomorphiced\n",
            "done in 3.791s\n",
            "\n"
          ]
        },
        {
          "output_type": "display_data",
          "data": {
            "text/plain": [
              "<Figure size 288x288 with 1 Axes>"
            ],
            "image/png": "[encoded data removed]"
          },
          "metadata": {
            "needs_background": "light"
          }
        }
      ]
    },
    {
      "cell_type": "code",
      "source": [
        "t0 = time.time()\n",
        "DrawIsomorphicMatrix(\"IMDB-BINARY\", False, False)\n",
        "print(\"done in %0.3fs\\n\" % (time.time() - t0))"
      ],
      "metadata": {
        "id": "A3vRVuXNnbve"
      },
      "execution_count": null,
      "outputs": []
    },
    {
      "cell_type": "code",
      "source": [
        "t0 = time.time()\n",
        "DrawIsomorphicMatrix(\"MSRC_9\", False, False)\n",
        "print(\"done in %0.3fs\\n\" % (time.time() - t0))"
      ],
      "metadata": {
        "colab": {
          "base_uri": "https://localhost:8080/",
          "height": 418
        },
        "id": "O8gwA0Y2nbs5",
        "outputId": "f55c5bf8-8f37-48e2-f583-ecd63bd99c59"
      },
      "execution_count": null,
      "outputs": [
        {
          "output_type": "stream",
          "name": "stdout",
          "text": [
            "Extracting dataset  MSRC_9..\n",
            "Parsing dataset  MSRC_9..\n",
            "Parse was succesful..\n",
            "Deleting unzipped dataset files..\n",
            "Going back to the original directory..\n",
            "there are  0.0 pairs of graphs isomorphiced\n",
            "done in 4.430s\n",
            "\n"
          ]
        },
        {
          "output_type": "display_data",
          "data": {
            "text/plain": [
              "<Figure size 288x288 with 1 Axes>"
            ],
            "image/png": "[encoded data removed]"
          },
          "metadata": {
            "needs_background": "light"
          }
        }
      ]
    },
    {
      "cell_type": "code",
      "source": [
        "t0 = time.time()\n",
        "DrawIsomorphicMatrix(\"MSRC_21\", False, False)\n",
        "print(\"done in %0.3fs\\n\" % (time.time() - t0))"
      ],
      "metadata": {
        "colab": {
          "base_uri": "https://localhost:8080/",
          "height": 418
        },
        "id": "GJq-EngFnbpy",
        "outputId": "8f8e4a56-c221-46cc-8e05-5320e00ff4fb"
      },
      "execution_count": null,
      "outputs": [
        {
          "output_type": "stream",
          "name": "stdout",
          "text": [
            "Extracting dataset  MSRC_21..\n",
            "Parsing dataset  MSRC_21..\n",
            "Parse was succesful..\n",
            "Deleting unzipped dataset files..\n",
            "Going back to the original directory..\n",
            "there are  0.0 pairs of graphs isomorphiced\n",
            "done in 38.411s\n",
            "\n"
          ]
        },
        {
          "output_type": "display_data",
          "data": {
            "text/plain": [
              "<Figure size 288x288 with 1 Axes>"
            ],
            "image/png": "[encoded data removed]"
          },
          "metadata": {
            "needs_background": "light"
          }
        }
      ]
    },
    {
      "cell_type": "code",
      "source": [
        "t0 = time.time()\n",
        "DrawIsomorphicMatrix(\"MSRC_21C\", False, False)\n",
        "print(\"done in %0.3fs\\n\" % (time.time() - t0))"
      ],
      "metadata": {
        "colab": {
          "base_uri": "https://localhost:8080/",
          "height": 418
        },
        "id": "kq_HjZh8ofsX",
        "outputId": "d2caa510-8459-4601-c225-465a213a3e7d"
      },
      "execution_count": null,
      "outputs": [
        {
          "output_type": "stream",
          "name": "stdout",
          "text": [
            "Extracting dataset  MSRC_21C..\n",
            "Parsing dataset  MSRC_21C..\n",
            "Parse was succesful..\n",
            "Deleting unzipped dataset files..\n",
            "Going back to the original directory..\n",
            "there are  0.0 pairs of graphs isomorphiced\n",
            "done in 3.853s\n",
            "\n"
          ]
        },
        {
          "output_type": "display_data",
          "data": {
            "text/plain": [
              "<Figure size 288x288 with 1 Axes>"
            ],
            "image/png": "[encoded data removed]"
          },
          "metadata": {
            "needs_background": "light"
          }
        }
      ]
    },
    {
      "cell_type": "code",
      "source": [
        "\n",
        "t0 = time.time()\n",
        "DrawIsomorphicMatrix(\"SYNTHETIC\", False, False)\n",
        "print(\"done in %0.3fs\\n\" % (time.time() - t0))"
      ],
      "metadata": {
        "id": "WRma_cINofqR",
        "colab": {
          "base_uri": "https://localhost:8080/",
          "height": 436
        },
        "outputId": "5515938a-3885-4356-de24-e45ef4312012"
      },
      "execution_count": 114,
      "outputs": [
        {
          "output_type": "stream",
          "name": "stdout",
          "text": [
            "Downloading dataset for SYNTHETIC..\n",
            "Extracting dataset  SYNTHETIC..\n",
            "Parsing dataset  SYNTHETIC..\n",
            "Parse was succesful..\n",
            "Deleting unzipped dataset files..\n",
            "Going back to the original directory..\n",
            "there are  44850.0 pairs of graphs isomorphiced\n",
            "done in 4316.377s\n",
            "\n"
          ]
        },
        {
          "output_type": "display_data",
          "data": {
            "text/plain": [
              "<Figure size 288x288 with 1 Axes>"
            ],
            "image/png": "[encoded data removed]"
          },
          "metadata": {
            "needs_background": "light"
          }
        }
      ]
    },
    {
      "cell_type": "code",
      "source": [
        ""
      ],
      "metadata": {
        "id": "5P3LyAci2kae"
      },
      "execution_count": null,
      "outputs": []
    },
    {
      "cell_type": "code",
      "source": [
        ""
      ],
      "metadata": {
        "id": "BYqM3RbMofoM"
      },
      "execution_count": null,
      "outputs": []
    },
    {
      "cell_type": "code",
      "source": [
        "t0 = time.time()\n",
        "DrawIsomorphicMatrix(\"DHFR\", True, False)\n",
        "print(\"done in %0.3fs\\n\" % (time.time() - t0))"
      ],
      "metadata": {
        "id": "2d1_Vj9alS0G"
      },
      "execution_count": null,
      "outputs": []
    },
    {
      "cell_type": "code",
      "source": [
        "t0 = time.time()\n",
        "DrawIsomorphicMatrix(\"PTC_FM\", True, False)\n",
        "print(\"done in %0.3fs\\n\" % (time.time() - t0))"
      ],
      "metadata": {
        "id": "iCZrhH2qlcTI"
      },
      "execution_count": null,
      "outputs": []
    },
    {
      "cell_type": "code",
      "source": [
        "t0 = time.time()\n",
        "DrawIsomorphicMatrix(\"PTC_FR\", True, False)\n",
        "print(\"done in %0.3fs\\n\" % (time.time() - t0))"
      ],
      "metadata": {
        "id": "4wmJ2qf5lcQz"
      },
      "execution_count": null,
      "outputs": []
    },
    {
      "cell_type": "code",
      "source": [
        "t0 = time.time()\n",
        "DrawIsomorphicMatrix(\"PTC_MM\", True, False)\n",
        "print(\"done in %0.3fs\\n\" % (time.time() - t0))"
      ],
      "metadata": {
        "id": "5dNWDf2LlcOs"
      },
      "execution_count": null,
      "outputs": []
    },
    {
      "cell_type": "code",
      "source": [
        "t0 = time.time()\n",
        "DrawIsomorphicMatrix(\"PTC_MR\", True, False)\n",
        "print(\"done in %0.3fs\\n\" % (time.time() - t0))"
      ],
      "metadata": {
        "id": "kK31crYElcMW"
      },
      "execution_count": null,
      "outputs": []
    },
    {
      "cell_type": "code",
      "source": [
        "t0 = time.time()\n",
        "DrawIsomorphicMatrix(\"IMDB-BINARY\", True, False)\n",
        "print(\"done in %0.3fs\\n\" % (time.time() - t0))"
      ],
      "metadata": {
        "id": "y1LtXfkRlcKR"
      },
      "execution_count": null,
      "outputs": []
    },
    {
      "cell_type": "code",
      "source": [
        "t0 = time.time()\n",
        "DrawIsomorphicMatrix(\"MSRC_9\", True, False)\n",
        "print(\"done in %0.3fs\\n\" % (time.time() - t0))"
      ],
      "metadata": {
        "id": "o2p8B2xrlcH8"
      },
      "execution_count": null,
      "outputs": []
    },
    {
      "cell_type": "code",
      "source": [
        "t0 = time.time()\n",
        "DrawIsomorphicMatrix(\"MSRC_21\", True, False)\n",
        "print(\"done in %0.3fs\\n\" % (time.time() - t0))"
      ],
      "metadata": {
        "id": "8wQhq_dIlcB8"
      },
      "execution_count": null,
      "outputs": []
    },
    {
      "cell_type": "code",
      "source": [
        "t0 = time.time()\n",
        "DrawIsomorphicMatrix(\"MSRC_2C\", True, False)\n",
        "print(\"done in %0.3fs\\n\" % (time.time() - t0))"
      ],
      "metadata": {
        "id": "9PJl9m73lb_H"
      },
      "execution_count": null,
      "outputs": []
    }
  ]
}