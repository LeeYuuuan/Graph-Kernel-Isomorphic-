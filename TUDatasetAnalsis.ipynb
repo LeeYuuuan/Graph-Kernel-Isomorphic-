{
  "nbformat": 4,
  "nbformat_minor": 0,
  "metadata": {
    "colab": {
      "name": "TUDatasetAnalsis.ipynb",
      "provenance": [],
      "collapsed_sections": [
        "VSlqpwdbAOa6",
        "p3-EvgD1AahH"
      ],
      "authorship_tag": "ABX9TyPmFH5bgdeCV+PaFtZXWPnp",
      "include_colab_link": true
    },
    "kernelspec": {
      "name": "python3",
      "display_name": "Python 3"
    },
    "language_info": {
      "name": "python"
    }
  },
  "cells": [
    {
      "cell_type": "markdown",
      "metadata": {
        "id": "view-in-github",
        "colab_type": "text"
      },
      "source": [
        "<a href=\"https://colab.research.google.com/github/LeeYuuuan/Graph-Kernel-Isomorphic-/blob/main/TUDatasetAnalsis.ipynb\" target=\"_parent\"><img src=\"https://colab.research.google.com/assets/colab-badge.svg\" alt=\"Open In Colab\"/></a>"
      ]
    },
    {
      "cell_type": "markdown",
      "source": [
        "# add dependencies"
      ],
      "metadata": {
        "id": "VSlqpwdbAOa6"
      }
    },
    {
      "cell_type": "code",
      "execution_count": null,
      "metadata": {
        "id": "0cJ0cAWHAEoP"
      },
      "outputs": [],
      "source": [
        "%pip install grakel\n",
        "import grakel\n",
        "import networkx as nx\n",
        "import matplotlib.pyplot as plt\n",
        "import numpy as np\n",
        "import networkx.algorithms.isomorphism as iso\n",
        "import pandas as pd\n",
        "\n",
        "from sklearn.model_selection import train_test_split\n",
        "from sklearn.svm import SVC\n",
        "from sklearn.metrics import accuracy_score"
      ]
    },
    {
      "cell_type": "markdown",
      "source": [
        "# Draw Graph"
      ],
      "metadata": {
        "id": "p3-EvgD1AahH"
      }
    },
    {
      "cell_type": "code",
      "source": [
        "def draw_graphs(Gra1,Gra2):\n",
        "    pos = nx.spring_layout(Gra1)\n",
        "    pos1 = nx.spring_layout(Gra2) \n",
        "    plt.subplot(121)\n",
        "    nx.draw(Gra1, pos, with_labels=True, node_color='pink', node_size=500)\n",
        "    plt.subplot(122)\n",
        "    nx.draw(Gra2, pos1, with_labels=True, node_size=500)\n",
        "    plt.show()"
      ],
      "metadata": {
        "id": "jHiPXZY-ARyA"
      },
      "execution_count": 11,
      "outputs": []
    },
    {
      "cell_type": "markdown",
      "source": [
        "# Load Data"
      ],
      "metadata": {
        "id": "O2d9X4_SBP7X"
      }
    },
    {
      "cell_type": "code",
      "source": [
        "def GetGraphData(dataset_name):\n",
        "    dataset = grakel.datasets.fetch_dataset(dataset_name, verbose=True, data_home=None, download_if_missing=True, with_classes=True, produce_labels_nodes=False, prefer_attr_nodes=False, prefer_attr_edges=False, as_graphs=False)\n",
        "    G = dataset.data\n",
        "    y = dataset.target\n",
        "    return G, y"
      ],
      "metadata": {
        "id": "HdnAMWQsBO-8"
      },
      "execution_count": 6,
      "outputs": []
    },
    {
      "cell_type": "code",
      "source": [
        "def GetGraph(an_old_graph):\n",
        "    \"\"\"\n",
        "    This function input a graph from /grakel dataset/\n",
        "    Then converted to a type [class]Graph (networkx)\n",
        "    \"\"\"\n",
        "    Graph = nx.MultiGraph()\n",
        "    Graph.add_edges_from(list(an_old_graph[0]))\n",
        "\n",
        "    if len(an_old_graph[1]) != 0:\n",
        "      for node in an_old_graph[1]:\n",
        "        Graph.add_node(node, attr=an_old_graph[1][node])\n",
        "    if len(an_old_graph[2]) !=0:\n",
        "      for edge in an_old_graph[2]:\n",
        "        Graph.add_edge(edge[0],edge[1], attr=an_old_graph[2][edge])\n",
        "  \n",
        "    return Graph"
      ],
      "metadata": {
        "id": "1uKK-MvrBe3W"
      },
      "execution_count": 7,
      "outputs": []
    },
    {
      "cell_type": "code",
      "source": [
        "def GetGraphwithoutLabel(an_old_graph):\n",
        "    \"\"\"\n",
        "    This function input a graph from /grakel dataset/\n",
        "    Then converted to a type [class]Graph (networkx) \n",
        "    NOTE: without labels.\n",
        "    \"\"\"\n",
        "    Graph = nx.MultiGraph()\n",
        "    Graph.add_edges_from(list(an_old_graph[0]))\n",
        "\n",
        "    return Graph"
      ],
      "metadata": {
        "id": "Q1ivSWg2B7X1"
      },
      "execution_count": 10,
      "outputs": []
    },
    {
      "cell_type": "code",
      "source": [
        "def GetAllGraph(graph_dataset):\n",
        "    \"\"\"\n",
        "    Get all Graph with type of [class]Graph\n",
        "    return a list [Graph1, Graph2, ...]\n",
        "    \"\"\"\n",
        "    Graphs = []\n",
        "    for graph_data in graph_dataset:\n",
        "      Graphs.append(GetGraph(graph_data))\n",
        "    \n",
        "    return Graphs"
      ],
      "metadata": {
        "id": "xbwYa3l2Boio"
      },
      "execution_count": 8,
      "outputs": []
    },
    {
      "cell_type": "code",
      "source": [
        "def GetAllGraphwithoutLables(graph_dataset):\n",
        "    \"\"\"\n",
        "    Get all Graph with type of [class]Graph\n",
        "    return a list [Graph1, Graph2, ...]\n",
        "    \"\"\"\n",
        "    Graphs = []\n",
        "    for graph_data in graph_dataset:\n",
        "      Graphs.append(GetGraphwithoutLabel(graph_data))\n",
        "    \n",
        "    return Graphs"
      ],
      "metadata": {
        "id": "cOE4NzjzCYsa"
      },
      "execution_count": 13,
      "outputs": []
    },
    {
      "cell_type": "markdown",
      "source": [
        "# Analysis "
      ],
      "metadata": {
        "id": "-UkMDV8BDQbU"
      }
    },
    {
      "cell_type": "code",
      "source": [
        "def GetSumCount(Graphs):\n",
        "    \"\"\"\n",
        "    Get the number of the graphs in the dataset.\n",
        "    \"\"\"\n",
        "    return len(Graphs)"
      ],
      "metadata": {
        "id": "xAqinKO2DP-9"
      },
      "execution_count": 18,
      "outputs": []
    },
    {
      "cell_type": "code",
      "source": [
        "def GetAverageNodes(Graphs):\n",
        "    \"\"\"\n",
        "    Get the average number of nodes for a certain dataset.\n",
        "    \"\"\"\n",
        "    sum = 0\n",
        "    for Graph in Graphs:\n",
        "        sum += len(Graph.nodes())\n",
        "    \n",
        "    return sum/len(Graphs)\n"
      ],
      "metadata": {
        "id": "I_JcKBL9Djqm"
      },
      "execution_count": 64,
      "outputs": []
    },
    {
      "cell_type": "code",
      "source": [
        "def GetAverageEdges(Graphs):\n",
        "    \"\"\"\n",
        "    Get the average number of edges for a certain dataset.\n",
        "    \"\"\"\n",
        "    sum = 0\n",
        "    for Graph in Graphs:\n",
        "        sum += len(Graph.edges())\n",
        "    \n",
        "    return sum/len(Graphs)/2\n"
      ],
      "metadata": {
        "id": "-tPdZcC_LQIV"
      },
      "execution_count": 69,
      "outputs": []
    },
    {
      "cell_type": "code",
      "source": [
        "def GetSummary(name):\n",
        "    \"\"\"\n",
        "    Get the summary statisic information for a certain Dataset.\n",
        "\n",
        "    or Get for a list of Datasets.\n",
        "    \"\"\"\n",
        "    if type(name) == str :\n",
        "        G,y = GetGraphData(name)\n",
        "        Graphs = GetAllGraph(G)\n",
        "        df = pd.DataFrame(columns=[\"Name\",\"Graphs\",\"Class\",\"Average Nodes\", \"Average Edges\"])\n",
        "        temp_df = {\"Name\": name, \n",
        "                   \"Graphs\": GetSumCount(Graphs), \n",
        "                   \"Class\": len(set(y)), \n",
        "                   \"Average Nodes\" : GetAverageNodes(Graphs),\n",
        "                   \"Average Edges\" : GetAverageEdges(Graphs)}\n",
        "        df = df.append([temp_df], ignore_index=True)\n",
        "        # df.loc[0] = [name, GetSumCount(Graphs), len(set(y)), GetAverageNodes(Graphs)]\n",
        "    elif type(name) == list:\n",
        "        df = pd.DataFrame(columns=[\"Name\",\"Graphs\",\"Class\",\"Average Nodes\", \"Average Edges\"])\n",
        "        for dataset in name:\n",
        "            G,y = GetGraphData(dataset)\n",
        "            Graphs = GetAllGraph(G)\n",
        "            \n",
        "            temp_df = {\"Name\": dataset, \n",
        "                   \"Graphs\": GetSumCount(Graphs), \n",
        "                   \"Class\": len(set(y)), \n",
        "                   \"Average Nodes\" : GetAverageNodes(Graphs),\n",
        "                   \"Average Edges\" : GetAverageEdges(Graphs)}\n",
        "            df = df.append(temp_df, ignore_index=True)\n",
        "        \n",
        "\n",
        "\n",
        "\n",
        "    return df"
      ],
      "metadata": {
        "id": "sov4x-MhDwCx"
      },
      "execution_count": 79,
      "outputs": []
    },
    {
      "cell_type": "code",
      "source": [
        "len(Graphs_BZR[0].nodes())"
      ],
      "metadata": {
        "colab": {
          "base_uri": "https://localhost:8080/"
        },
        "id": "kCkgf2mUHi4t",
        "outputId": "88ee0aa8-0911-45bc-d24c-d80c3854db26"
      },
      "execution_count": 41,
      "outputs": [
        {
          "output_type": "execute_result",
          "data": {
            "text/plain": [
              "30"
            ]
          },
          "metadata": {},
          "execution_count": 41
        }
      ]
    },
    {
      "cell_type": "markdown",
      "source": [
        "## BZR"
      ],
      "metadata": {
        "id": "nU9_nhHEBWOf"
      }
    },
    {
      "cell_type": "code",
      "source": [
        "G,y = GetGraphData(\"BZR\")\n",
        "Graphs_BZR = GetAllGraph(G)\n",
        "GraphswitoutLabel_BZR = GetAllGraphwithoutLables(G)"
      ],
      "metadata": {
        "id": "m-lndQ1VBY2d"
      },
      "execution_count": null,
      "outputs": []
    },
    {
      "cell_type": "code",
      "source": [
        "set(y)"
      ],
      "metadata": {
        "colab": {
          "base_uri": "https://localhost:8080/"
        },
        "id": "57aiUflUIgpV",
        "outputId": "8a262596-e1a5-4c53-cb09-bdce5e2a6c54"
      },
      "execution_count": 44,
      "outputs": [
        {
          "output_type": "execute_result",
          "data": {
            "text/plain": [
              "{-1, 1}"
            ]
          },
          "metadata": {},
          "execution_count": 44
        }
      ]
    },
    {
      "cell_type": "code",
      "source": [
        "# get attribute.\n",
        "nx.get_node_attributes(Graphs_BZR[0],'attr')\n",
        "nx.get_node_attributes(GraphswitoutLabel_BZR[0],'attr')"
      ],
      "metadata": {
        "id": "YIKPYF2ZDB56"
      },
      "execution_count": null,
      "outputs": []
    },
    {
      "cell_type": "code",
      "source": [
        "GetSummary(['BZR','COX2'])"
      ],
      "metadata": {
        "colab": {
          "base_uri": "https://localhost:8080/",
          "height": 291
        },
        "id": "UtF88uNPDDgh",
        "outputId": "0b148b5e-1236-4279-975d-eb170135842f"
      },
      "execution_count": 80,
      "outputs": [
        {
          "output_type": "stream",
          "name": "stdout",
          "text": [
            "Extracting dataset  BZR..\n",
            "Parsing dataset  BZR..\n",
            "Parse was succesful..\n",
            "Deleting unzipped dataset files..\n",
            "Going back to the original directory..\n",
            "Extracting dataset  COX2..\n",
            "Parsing dataset  COX2..\n",
            "Parse was succesful..\n",
            "Deleting unzipped dataset files..\n",
            "Going back to the original directory..\n"
          ]
        },
        {
          "output_type": "execute_result",
          "data": {
            "text/plain": [
              "   Name Graphs Class  Average Nodes  Average Edges\n",
              "0   BZR    405     2      35.750617      38.358025\n",
              "1  COX2    467     2      41.224839      43.445396"
            ],
            "text/html": [
              "\n",
              "  <div id=\"df-67b90f4d-6d90-4758-b0f0-46c259dd3100\">\n",
              "    <div class=\"colab-df-container\">\n",
              "      <div>\n",
              "<style scoped>\n",
              "    .dataframe tbody tr th:only-of-type {\n",
              "        vertical-align: middle;\n",
              "    }\n",
              "\n",
              "    .dataframe tbody tr th {\n",
              "        vertical-align: top;\n",
              "    }\n",
              "\n",
              "    .dataframe thead th {\n",
              "        text-align: right;\n",
              "    }\n",
              "</style>\n",
              "<table border=\"1\" class=\"dataframe\">\n",
              "  <thead>\n",
              "    <tr style=\"text-align: right;\">\n",
              "      <th></th>\n",
              "      <th>Name</th>\n",
              "      <th>Graphs</th>\n",
              "      <th>Class</th>\n",
              "      <th>Average Nodes</th>\n",
              "      <th>Average Edges</th>\n",
              "    </tr>\n",
              "  </thead>\n",
              "  <tbody>\n",
              "    <tr>\n",
              "      <th>0</th>\n",
              "      <td>BZR</td>\n",
              "      <td>405</td>\n",
              "      <td>2</td>\n",
              "      <td>35.750617</td>\n",
              "      <td>38.358025</td>\n",
              "    </tr>\n",
              "    <tr>\n",
              "      <th>1</th>\n",
              "      <td>COX2</td>\n",
              "      <td>467</td>\n",
              "      <td>2</td>\n",
              "      <td>41.224839</td>\n",
              "      <td>43.445396</td>\n",
              "    </tr>\n",
              "  </tbody>\n",
              "</table>\n",
              "</div>\n",
              "      <button class=\"colab-df-convert\" onclick=\"convertToInteractive('df-67b90f4d-6d90-4758-b0f0-46c259dd3100')\"\n",
              "              title=\"Convert this dataframe to an interactive table.\"\n",
              "              style=\"display:none;\">\n",
              "        \n",
              "  <svg xmlns=\"http://www.w3.org/2000/svg\" height=\"24px\"viewBox=\"0 0 24 24\"\n",
              "       width=\"24px\">\n",
              "    <path d=\"M0 0h24v24H0V0z\" fill=\"none\"/>\n",
              "    <path d=\"M18.56 5.44l.94 2.06.94-2.06 2.06-.94-2.06-.94-.94-2.06-.94 2.06-2.06.94zm-11 1L8.5 8.5l.94-2.06 2.06-.94-2.06-.94L8.5 2.5l-.94 2.06-2.06.94zm10 10l.94 2.06.94-2.06 2.06-.94-2.06-.94-.94-2.06-.94 2.06-2.06.94z\"/><path d=\"M17.41 7.96l-1.37-1.37c-.4-.4-.92-.59-1.43-.59-.52 0-1.04.2-1.43.59L10.3 9.45l-7.72 7.72c-.78.78-.78 2.05 0 2.83L4 21.41c.39.39.9.59 1.41.59.51 0 1.02-.2 1.41-.59l7.78-7.78 2.81-2.81c.8-.78.8-2.07 0-2.86zM5.41 20L4 18.59l7.72-7.72 1.47 1.35L5.41 20z\"/>\n",
              "  </svg>\n",
              "      </button>\n",
              "      \n",
              "  <style>\n",
              "    .colab-df-container {\n",
              "      display:flex;\n",
              "      flex-wrap:wrap;\n",
              "      gap: 12px;\n",
              "    }\n",
              "\n",
              "    .colab-df-convert {\n",
              "      background-color: #E8F0FE;\n",
              "      border: none;\n",
              "      border-radius: 50%;\n",
              "      cursor: pointer;\n",
              "      display: none;\n",
              "      fill: #1967D2;\n",
              "      height: 32px;\n",
              "      padding: 0 0 0 0;\n",
              "      width: 32px;\n",
              "    }\n",
              "\n",
              "    .colab-df-convert:hover {\n",
              "      background-color: #E2EBFA;\n",
              "      box-shadow: 0px 1px 2px rgba(60, 64, 67, 0.3), 0px 1px 3px 1px rgba(60, 64, 67, 0.15);\n",
              "      fill: #174EA6;\n",
              "    }\n",
              "\n",
              "    [theme=dark] .colab-df-convert {\n",
              "      background-color: #3B4455;\n",
              "      fill: #D2E3FC;\n",
              "    }\n",
              "\n",
              "    [theme=dark] .colab-df-convert:hover {\n",
              "      background-color: #434B5C;\n",
              "      box-shadow: 0px 1px 3px 1px rgba(0, 0, 0, 0.15);\n",
              "      filter: drop-shadow(0px 1px 2px rgba(0, 0, 0, 0.3));\n",
              "      fill: #FFFFFF;\n",
              "    }\n",
              "  </style>\n",
              "\n",
              "      <script>\n",
              "        const buttonEl =\n",
              "          document.querySelector('#df-67b90f4d-6d90-4758-b0f0-46c259dd3100 button.colab-df-convert');\n",
              "        buttonEl.style.display =\n",
              "          google.colab.kernel.accessAllowed ? 'block' : 'none';\n",
              "\n",
              "        async function convertToInteractive(key) {\n",
              "          const element = document.querySelector('#df-67b90f4d-6d90-4758-b0f0-46c259dd3100');\n",
              "          const dataTable =\n",
              "            await google.colab.kernel.invokeFunction('convertToInteractive',\n",
              "                                                     [key], {});\n",
              "          if (!dataTable) return;\n",
              "\n",
              "          const docLinkHtml = 'Like what you see? Visit the ' +\n",
              "            '<a target=\"_blank\" href=https://colab.research.google.com/notebooks/data_table.ipynb>data table notebook</a>'\n",
              "            + ' to learn more about interactive tables.';\n",
              "          element.innerHTML = '';\n",
              "          dataTable['output_type'] = 'display_data';\n",
              "          await google.colab.output.renderOutput(dataTable, element);\n",
              "          const docLink = document.createElement('div');\n",
              "          docLink.innerHTML = docLinkHtml;\n",
              "          element.appendChild(docLink);\n",
              "        }\n",
              "      </script>\n",
              "    </div>\n",
              "  </div>\n",
              "  "
            ]
          },
          "metadata": {},
          "execution_count": 80
        }
      ]
    },
    {
      "cell_type": "code",
      "source": [
        ""
      ],
      "metadata": {
        "id": "K9Cu_0sQKdr9"
      },
      "execution_count": null,
      "outputs": []
    }
  ]
}