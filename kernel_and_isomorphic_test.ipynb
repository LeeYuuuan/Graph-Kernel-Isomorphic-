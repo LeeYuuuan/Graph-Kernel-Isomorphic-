{
  "cells": [
    {
      "cell_type": "markdown",
      "metadata": {
        "id": "view-in-github",
        "colab_type": "text"
      },
      "source": [
        "<a href=\"https://colab.research.google.com/github/LeeYuuuan/Graph-Kernel-Isomorphic-/blob/main/kernel_and_isomorphic_test.ipynb\" target=\"_parent\"><img src=\"https://colab.research.google.com/assets/colab-badge.svg\" alt=\"Open In Colab\"/></a>"
      ]
    },
    {
      "cell_type": "markdown",
      "metadata": {
        "id": "wHE4WYPZgEO7"
      },
      "source": [
        "#add dependencies"
      ]
    },
    {
      "cell_type": "code",
      "execution_count": 1,
      "metadata": {
        "colab": {
          "base_uri": "https://localhost:8080/"
        },
        "id": "7Y4dYt01f_YH",
        "outputId": "f64e26da-38a1-4fe6-8e2b-7c7c7a0bacb5"
      },
      "outputs": [
        {
          "output_type": "stream",
          "name": "stdout",
          "text": [
            "Looking in indexes: https://pypi.org/simple, https://us-python.pkg.dev/colab-wheels/public/simple/\n",
            "Collecting grakel\n",
            "  Downloading grakel-0.1.8-cp37-cp37m-manylinux2010_x86_64.whl (1.6 MB)\n",
            "\u001b[K     |████████████████████████████████| 1.6 MB 2.8 MB/s \n",
            "\u001b[?25hRequirement already satisfied: six>=1.11.0 in /usr/local/lib/python3.7/dist-packages (from grakel) (1.15.0)\n",
            "Requirement already satisfied: numpy>=1.14.0 in /usr/local/lib/python3.7/dist-packages (from grakel) (1.21.6)\n",
            "Requirement already satisfied: scikit-learn>=0.19 in /usr/local/lib/python3.7/dist-packages (from grakel) (1.0.2)\n",
            "Requirement already satisfied: future>=0.16.0 in /usr/local/lib/python3.7/dist-packages (from grakel) (0.16.0)\n",
            "Requirement already satisfied: cython>=0.27.3 in /usr/local/lib/python3.7/dist-packages (from grakel) (0.29.30)\n",
            "Requirement already satisfied: joblib in /usr/local/lib/python3.7/dist-packages (from grakel) (1.1.0)\n",
            "Collecting nose>=1.1.2\n",
            "  Downloading nose-1.3.7-py3-none-any.whl (154 kB)\n",
            "\u001b[K     |████████████████████████████████| 154 kB 61.2 MB/s \n",
            "\u001b[?25hRequirement already satisfied: scipy>=1.1.0 in /usr/local/lib/python3.7/dist-packages (from scikit-learn>=0.19->grakel) (1.7.3)\n",
            "Requirement already satisfied: threadpoolctl>=2.0.0 in /usr/local/lib/python3.7/dist-packages (from scikit-learn>=0.19->grakel) (3.1.0)\n",
            "Installing collected packages: nose, grakel\n",
            "Successfully installed grakel-0.1.8 nose-1.3.7\n"
          ]
        }
      ],
      "source": [
        "%pip install grakel"
      ]
    },
    {
      "cell_type": "code",
      "execution_count": 14,
      "metadata": {
        "id": "aQ6Bh5d1gD3f"
      },
      "outputs": [],
      "source": [
        "import grakel\n",
        "import networkx as nx\n",
        "import matplotlib.pyplot as plt\n",
        "import numpy as np\n",
        "import networkx.algorithms.isomorphism as iso\n",
        "import time\n",
        "\n",
        "from sklearn.model_selection import train_test_split\n",
        "from sklearn.svm import SVC\n",
        "from sklearn.metrics import accuracy_score"
      ]
    },
    {
      "cell_type": "markdown",
      "metadata": {
        "id": "SvGh7aPoskT0"
      },
      "source": [
        "# Draw Graph"
      ]
    },
    {
      "cell_type": "code",
      "execution_count": 3,
      "metadata": {
        "id": "WOYpPFV1speg"
      },
      "outputs": [],
      "source": [
        "def draw_graphs(G,G1):\n",
        "    pos = nx.spring_layout(G)\n",
        "    pos1 = nx.spring_layout(G1) \n",
        "    plt.subplot(121)\n",
        "    nx.draw(G, pos, with_labels=True, node_color='pink', node_size=500)\n",
        "    plt.subplot(122)\n",
        "    nx.draw(G1, pos1, with_labels=True, node_size=500)\n",
        "    plt.show()\n"
      ]
    },
    {
      "cell_type": "markdown",
      "metadata": {
        "id": "qT_nb7x0ggKq"
      },
      "source": [
        "#Load Data"
      ]
    },
    {
      "cell_type": "code",
      "execution_count": 4,
      "metadata": {
        "id": "pFlE9IRegiAH"
      },
      "outputs": [],
      "source": [
        "def GetGraphData(dataset_name):\n",
        "  dataset = grakel.datasets.fetch_dataset(dataset_name, verbose=True, data_home=None, download_if_missing=True, with_classes=True, produce_labels_nodes=False, prefer_attr_nodes=False, prefer_attr_edges=False, as_graphs=False)\n",
        "  G = dataset.data\n",
        "  y = dataset.target\n",
        "  return G, y"
      ]
    },
    {
      "cell_type": "code",
      "execution_count": 5,
      "metadata": {
        "colab": {
          "base_uri": "https://localhost:8080/"
        },
        "id": "oDEbuzTeyVsB",
        "outputId": "14aab94c-f3ee-4a5c-9699-d39315dab160"
      },
      "outputs": [
        {
          "output_type": "stream",
          "name": "stdout",
          "text": [
            "Initializing folder at /root/grakel_data\n",
            "Downloading dataset for SYNTHETIC..\n",
            "Extracting dataset  SYNTHETIC..\n",
            "Parsing dataset  SYNTHETIC..\n",
            "Parse was succesful..\n",
            "Deleting unzipped dataset files..\n",
            "Going back to the original directory..\n"
          ]
        }
      ],
      "source": [
        "# for test\n",
        "G,y = GetGraphData(\"SYNTHETIC\")\n"
      ]
    },
    {
      "cell_type": "code",
      "execution_count": null,
      "metadata": {
        "id": "zOO-ujk_yhwJ"
      },
      "outputs": [],
      "source": [
        "G[0]"
      ]
    },
    {
      "cell_type": "markdown",
      "metadata": {
        "id": "AMS_b8U5gTv3"
      },
      "source": [
        "#graph isomorphism"
      ]
    },
    {
      "cell_type": "code",
      "execution_count": 6,
      "metadata": {
        "id": "cL_30Q9bgdW-"
      },
      "outputs": [],
      "source": [
        "def GetGraph(an_old_graph):\n",
        "  \"\"\"\n",
        "  This function input a graph from /grakel dataset/\n",
        "  Then converted to a type [class]Graph (networkx)\n",
        "  \"\"\"\n",
        "  Graph = nx.MultiGraph()\n",
        "  Graph.add_edges_from(list(an_old_graph[0]))\n",
        "\n",
        "  if len(an_old_graph[1]) != 0:\n",
        "    for node in an_old_graph[1]:\n",
        "      Graph.add_node(node, attr=an_old_graph[1][node])\n",
        "  if len(an_old_graph[2]) !=0:\n",
        "    for edge in an_old_graph[2]:\n",
        "      Graph.add_edge(edge[0],edge[1], attr=an_old_graph[2][edge])\n",
        "  \n",
        "  return Graph"
      ]
    },
    {
      "cell_type": "code",
      "execution_count": 7,
      "metadata": {
        "id": "AJQEQwmjgdQO"
      },
      "outputs": [],
      "source": [
        "def GetAllGraph(graph_dataset):\n",
        "  \"\"\"\n",
        "  Get all Graph with type of [class]Graph\n",
        "  return a list [Graph1, Graph2, ...]\n",
        "  \"\"\"\n",
        "  Graphs = []\n",
        "  for graph_data in graph_dataset:\n",
        "    Graphs.append(GetGraph(graph_data))\n",
        "    \n",
        "  return Graphs"
      ]
    },
    {
      "cell_type": "markdown",
      "metadata": {
        "id": "sD33Ow-8rq52"
      },
      "source": [
        "# WL-test"
      ]
    },
    {
      "cell_type": "code",
      "execution_count": null,
      "metadata": {
        "id": "mCfWw4AXshPu"
      },
      "outputs": [],
      "source": [
        "draw_graphs(Graphs[0],Graphs[2])"
      ]
    },
    {
      "cell_type": "code",
      "execution_count": 9,
      "metadata": {
        "id": "quZ2LpQjq6q4"
      },
      "outputs": [],
      "source": [
        "Graphs = GetAllGraph(G)"
      ]
    },
    {
      "cell_type": "code",
      "source": [
        "def multiset_define(Graph): #复合集的生成与排序拼接,复合集value为邻居节点排序后标签\n",
        "    \"\"\"\n",
        "    G is a nx.Graph\n",
        "\n",
        "    return a dict: {node_id: list[current_node_label, nb1_node_label,nb2_node_balel, ...], node_id2: ...}\n",
        "    \n",
        "    \n",
        "    \"\"\"\n",
        "    multiset = {}\n",
        "    multiset1 = {}\n",
        "    label = nx.get_node_attributes(Graph,'attr') # label: {node_id: attr}\n",
        "    for node in Graph.nodes():\n",
        "        all_node_list = []\n",
        "        neighboors = nx.all_neighbors(Graph, node)\n",
        "        node_list = []\n",
        "        #print(\"ith iter\")\n",
        "        node_list.append(Graph.nodes[node][\"attr\"])\n",
        "        #node_list.append(label[node])\n",
        "        node_list_others = []\n",
        "        for node_of_neighboor in neighboors:\n",
        "            node_list_others.append(label[node_of_neighboor])\n",
        "        node_list_others.sort()\n",
        "        \n",
        "        #node_list.append(node_list_others) #这种写法可以将 Node attr 与 邻居的attr 分开： [current_attr, [oth1,oth2,...]]\n",
        "\n",
        "        for e in node_list_others:\n",
        "            node_list.append(e)\n",
        "\n",
        "        list_new = [x for x in node_list]\n",
        "        multiset[node] = list_new\n",
        "        #multiset1[node] = \"\".join(list_new)\n",
        "\n",
        "    return  multiset"
      ],
      "metadata": {
        "id": "S4Xc5U-2J9Xw"
      },
      "execution_count": 8,
      "outputs": []
    },
    {
      "cell_type": "code",
      "source": [
        "multiset_define(Graphs[6])"
      ],
      "metadata": {
        "id": "u_iqbAuWMtta"
      },
      "execution_count": null,
      "outputs": []
    },
    {
      "cell_type": "code",
      "source": [
        "def get_graphs_multiset_list(graphs_list):\n",
        "  \"\"\"\n",
        "  get multiset list from  list: class --> graphs.\n",
        "  return graphs multiset list.\n",
        "  \"\"\"\n",
        "\n",
        "  graphs_multiset_list = [] # get the list of all multisets for every nodes. list:[{node_id: nieghboor_label_list[label1, label2,...]...}...]\n",
        "\n",
        "  for graph in graphs_list:\n",
        "      graphs_multiset_list.append(multiset_define(graph))\n",
        "    \n",
        "  return graphs_multiset_list\n",
        "    "
      ],
      "metadata": {
        "id": "_8Ydg6gYIcb9"
      },
      "execution_count": 10,
      "outputs": []
    },
    {
      "cell_type": "code",
      "source": [
        "graphs_multiset_list = get_graphs_multiset_list(Graphs)\n",
        "#graphs_multiset_list[0] # e.g. a element of this list : dict{node:[label_list],...}"
      ],
      "metadata": {
        "id": "suaaSotAIKvI"
      },
      "execution_count": 11,
      "outputs": []
    },
    {
      "cell_type": "code",
      "source": [
        "graphs_multiset_list[0]"
      ],
      "metadata": {
        "id": "Qe4olqAevtaL"
      },
      "execution_count": null,
      "outputs": []
    },
    {
      "cell_type": "code",
      "source": [
        ""
      ],
      "metadata": {
        "id": "OH6rfLVJx1ff"
      },
      "execution_count": null,
      "outputs": []
    },
    {
      "cell_type": "code",
      "source": [
        "#for test\n",
        "x1, y1 = get_map_from_label_list_to_sorted_id([graphs_multiset_list[0]])\n",
        "x2, y2 = get_map_from_label_list_to_sorted_id([graphs_multiset_list[2]])\n"
      ],
      "metadata": {
        "id": "obtrVszxwlWn"
      },
      "execution_count": null,
      "outputs": []
    },
    {
      "cell_type": "code",
      "source": [
        "x1"
      ],
      "metadata": {
        "id": "DjTDHFvhwzOo"
      },
      "execution_count": null,
      "outputs": []
    },
    {
      "cell_type": "code",
      "source": [
        "abel_list, label_mapping_to_new, label_mapping_to_old, graphs_multiset_list = remap_the_label(graphs_multiset_list)"
      ],
      "metadata": {
        "id": "O-DZZsVdxzLB"
      },
      "execution_count": null,
      "outputs": []
    },
    {
      "cell_type": "code",
      "source": [
        "x2"
      ],
      "metadata": {
        "id": "qeWCRrA1xFyG"
      },
      "execution_count": null,
      "outputs": []
    },
    {
      "cell_type": "code",
      "execution_count": null,
      "metadata": {
        "id": "Zq8MySQqrzU7"
      },
      "outputs": [],
      "source": [
        "\"\"\"\n",
        "Init multi label set:\n",
        "{Node_id: Node:label, ...}\n",
        "\"\"\"\n",
        "nx.get_node_attributes(Graphs[0], 'attr')\n"
      ]
    },
    {
      "cell_type": "code",
      "source": [
        "#no use\n",
        "G1 = nx.MultiGraph()   #有多重边无向图\n",
        "G1.add_node(1,label='1')  #添加节点\n",
        "G1.add_node(2,label='1')\n",
        "G1.add_node(3,label='1')\n",
        "G1.add_node(4,label='1')\n",
        "G1.add_node(5,label='1')\n",
        "G1.add_node(6,label='1')\n",
        "edges1 = [(1,5),(2,4),(4,5),(3,5),(3,6),(4,6),(5,6)]\n",
        "G1.add_edges_from(edges1)"
      ],
      "metadata": {
        "id": "wCaBSp5XAkcj"
      },
      "execution_count": null,
      "outputs": []
    },
    {
      "cell_type": "code",
      "source": [
        "label = nx.get_node_attributes(G1,'label') # label: {node_id: attr}"
      ],
      "metadata": {
        "id": "c4k-bPgVkH3A"
      },
      "execution_count": 18,
      "outputs": []
    },
    {
      "cell_type": "code",
      "source": [
        "label"
      ],
      "metadata": {
        "id": "k6hCFW6ikHzG"
      },
      "execution_count": null,
      "outputs": []
    },
    {
      "cell_type": "code",
      "source": [
        "def remap_the_label(graphs_multiset_list):\n",
        "  \"\"\"\n",
        "  remap the label.\n",
        "  i.e. label set [1, 4, 5]\n",
        "  {new_label:origin_label}\n",
        "  return {1:1, 2:4, 3:5}, relabeled graphs list.\n",
        "  \"\"\"\n",
        "  label_set = set()\n",
        "  for graph in graphs_multiset_list:\n",
        "      for node in graph.keys():\n",
        "          \n",
        "          for label in graph[node]:\n",
        "              label_set.add(label)\n",
        "\n",
        "  label_list = list(label_set)\n",
        "  label_list.sort()\n",
        "  label_mapping_to_new = {}\n",
        "  label_mapping_to_old = {}\n",
        "  for i in range(len(label_list)):\n",
        "      old_label = label_list[i]\n",
        "      label_mapping_to_old[i] = old_label\n",
        "      label_mapping_to_new[old_label] = i\n",
        "    \n",
        "  for graph in graphs_multiset_list:\n",
        "      for node in graph.keys():\n",
        "          temp_list = []\n",
        "          for label in graph[node]:\n",
        "              temp_list.append(label_mapping_to_new[label])\n",
        "          graph[node] = temp_list\n",
        "           \n",
        "  \n",
        "  return label_list, label_mapping_to_new, label_mapping_to_old, graphs_multiset_list\n",
        "\n",
        "  "
      ],
      "metadata": {
        "id": "Uepff0rJKl6F"
      },
      "execution_count": 14,
      "outputs": []
    },
    {
      "cell_type": "code",
      "source": [
        "label_list, label_mapping_to_new, label_mapping_to_old, graphs_multiset_list = remap_the_label(graphs_multiset_list)"
      ],
      "metadata": {
        "id": "lmmjvyWhKlxw"
      },
      "execution_count": 15,
      "outputs": []
    },
    {
      "cell_type": "code",
      "source": [
        "label_list"
      ],
      "metadata": {
        "colab": {
          "base_uri": "https://localhost:8080/"
        },
        "id": "VOa1uFt0KzMW",
        "outputId": "982f4278-637d-4c99-a187-c1738d941dc5"
      },
      "execution_count": 19,
      "outputs": [
        {
          "output_type": "execute_result",
          "data": {
            "text/plain": [
              "[1, 6, 7, 8, 9, 15, 16, 17, 35, 53]"
            ]
          },
          "metadata": {},
          "execution_count": 19
        }
      ]
    },
    {
      "cell_type": "code",
      "source": [
        "label_mapping_to_new"
      ],
      "metadata": {
        "colab": {
          "base_uri": "https://localhost:8080/"
        },
        "id": "lEX6ZuXLK0wn",
        "outputId": "056ae343-0661-4cdf-b50d-61bf31e15887"
      },
      "execution_count": 20,
      "outputs": [
        {
          "output_type": "execute_result",
          "data": {
            "text/plain": [
              "{1: 0, 6: 1, 7: 2, 8: 3, 9: 4, 15: 5, 16: 6, 17: 7, 35: 8, 53: 9}"
            ]
          },
          "metadata": {},
          "execution_count": 20
        }
      ]
    },
    {
      "cell_type": "code",
      "source": [
        "label_mapping_to_old"
      ],
      "metadata": {
        "colab": {
          "base_uri": "https://localhost:8080/"
        },
        "id": "41fPaJfLK3G4",
        "outputId": "aa6fd603-a615-4bcc-e32f-b6612201892f"
      },
      "execution_count": 21,
      "outputs": [
        {
          "output_type": "execute_result",
          "data": {
            "text/plain": [
              "{0: 1, 1: 6, 2: 7, 3: 8, 4: 9, 5: 15, 6: 16, 7: 17, 8: 35, 9: 53}"
            ]
          },
          "metadata": {},
          "execution_count": 21
        }
      ]
    },
    {
      "cell_type": "code",
      "source": [
        "graphs_multiset_list[6]"
      ],
      "metadata": {
        "id": "X02ylEcLK42m"
      },
      "execution_count": null,
      "outputs": []
    },
    {
      "cell_type": "code",
      "source": [
        "def calculate_feature_vector_dict(graphs_multiset_list):\n",
        "  \"\"\"\n",
        "  calculate feature vector for current label list.\n",
        "\n",
        "  calculate sum number of every node with the same label respectively.\n",
        "  \"\"\"\n",
        "  feature_vector_list_dict = []\n",
        "\n",
        "  for graph in graphs_multiset_list:\n",
        "      feature_vector = {}\n",
        "      for node in graph.keys():\n",
        "          if graph[node][0] in feature_vector.keys():\n",
        "              feature_vector[graph[node][0]] = feature_vector[graph[node][0]] + 1\n",
        "          else:\n",
        "              feature_vector[graph[node][0]] = 1\n",
        "      feature_vector_list_dict.append(feature_vector)\n",
        "\n",
        "  return feature_vector_list_dict\n"
      ],
      "metadata": {
        "id": "tHyG_YfILEKk"
      },
      "execution_count": 16,
      "outputs": []
    },
    {
      "cell_type": "code",
      "source": [
        "feature_vector_list_dict = calculate_feature_vector_dict(graphs_multiset_list)"
      ],
      "metadata": {
        "id": "7V4lmz26LE9G"
      },
      "execution_count": 17,
      "outputs": []
    },
    {
      "cell_type": "code",
      "source": [
        "feature_vector_list_dict[0]"
      ],
      "metadata": {
        "colab": {
          "base_uri": "https://localhost:8080/"
        },
        "id": "20ePxqfwzC-y",
        "outputId": "88455b7b-b5ff-4927-bdf3-ccb3de032c6f"
      },
      "execution_count": 198,
      "outputs": [
        {
          "output_type": "execute_result",
          "data": {
            "text/plain": [
              "{0: 11, 1: 15, 2: 2, 3: 1, 4: 1}"
            ]
          },
          "metadata": {},
          "execution_count": 198
        }
      ]
    },
    {
      "cell_type": "code",
      "source": [
        "feature_vector_list_dict[2]"
      ],
      "metadata": {
        "colab": {
          "base_uri": "https://localhost:8080/"
        },
        "id": "Y3caLIxPzF25",
        "outputId": "ad79fc0f-8e3c-469c-f978-7ac537f6a188"
      },
      "execution_count": 199,
      "outputs": [
        {
          "output_type": "execute_result",
          "data": {
            "text/plain": [
              "{0: 10, 1: 15, 2: 2, 3: 1, 4: 2}"
            ]
          },
          "metadata": {},
          "execution_count": 199
        }
      ]
    },
    {
      "cell_type": "code",
      "source": [
        "feature_vector_list_dict"
      ],
      "metadata": {
        "id": "s4thSg5OLMMI"
      },
      "execution_count": null,
      "outputs": []
    },
    {
      "cell_type": "code",
      "source": [
        "def calculate_feature_vector(feature_vector_list_dict, len_label_list):\n",
        "    \"\"\"\n",
        "    calculate the feature vector.\n",
        "    \"\"\"\n",
        "    feature_vector_list = []\n",
        "    \n",
        "    for graph in feature_vector_list_dict:\n",
        "        feature_vector = [0] * len_label_list\n",
        "        for feature in graph:\n",
        "            feature_vector[feature] = graph[feature]\n",
        "        \n",
        "        feature_vector_list.append(feature_vector)\n",
        "    \n",
        "    return feature_vector_list\n"
      ],
      "metadata": {
        "id": "bzW-ZK9dY9gy"
      },
      "execution_count": 18,
      "outputs": []
    },
    {
      "cell_type": "code",
      "source": [
        "calculate_feature_vector(feature_vector_list_dict, len(label_list))[0]"
      ],
      "metadata": {
        "colab": {
          "base_uri": "https://localhost:8080/"
        },
        "id": "cYW5X_udyouV",
        "outputId": "a59fb44e-caab-4f8a-fef5-de30c0283dc7"
      },
      "execution_count": 197,
      "outputs": [
        {
          "output_type": "execute_result",
          "data": {
            "text/plain": [
              "[11, 15, 2, 1, 1, 0, 0, 0, 0, 0]"
            ]
          },
          "metadata": {},
          "execution_count": 197
        }
      ]
    },
    {
      "cell_type": "code",
      "source": [
        "len_label_list = len(label_list)\n",
        "calculate_feature_vector(feature_vector_list_dict, len_label_list)"
      ],
      "metadata": {
        "id": "O5V13qD6cFE3"
      },
      "execution_count": null,
      "outputs": []
    },
    {
      "cell_type": "code",
      "source": [
        "def get_map_from_label_list_to_sorted_id(graphs_multiset_list):\n",
        "    \"\"\"{node_id: [label, label, ...]\n",
        "        node_id: [label, lable, ...] ---> {[label,....]: id , []:id,...}\n",
        "        ...                        }\n",
        "        relabel\n",
        "\n",
        "        return list with new label.\n",
        "    \"\"\"\n",
        "    label_list_set = []\n",
        "    for graph in graphs_multiset_list:\n",
        "        for node in graph:\n",
        "            if graph[node] not in label_list_set:\n",
        "                label_list_set.append(graph[node])\n",
        "    \n",
        "    label_list_set.sort()\n",
        "\n",
        "    for graph in graphs_multiset_list:\n",
        "        for node in graph:\n",
        "            graph[node] = label_list_set.index(graph[node])\n",
        "    \n",
        "    return label_list_set, graphs_multiset_list\n"
      ],
      "metadata": {
        "id": "nOLbG8AQrqNw"
      },
      "execution_count": 19,
      "outputs": []
    },
    {
      "cell_type": "code",
      "source": [
        "label_list_set, graphs_multiset_list  = get_map_from_label_list_to_sorted_id(graphs_multiset_list)"
      ],
      "metadata": {
        "id": "zdIIdaPed-Uu"
      },
      "execution_count": 21,
      "outputs": []
    },
    {
      "cell_type": "code",
      "source": [
        "graphs_multiset_list[0]"
      ],
      "metadata": {
        "id": "f2Vl1TMhfEwx"
      },
      "execution_count": null,
      "outputs": []
    },
    {
      "cell_type": "code",
      "source": [
        "def calculate_next_multiset_once(graph,graph_multiset, label_list_set):\n",
        "    \"\"\"\n",
        "    calculate the multiset after ith iteration.\n",
        "    \"\"\"\n",
        "    multiset = {}\n",
        "    for node in graph.nodes():\n",
        "        neighboors = nx.all_neighbors(graph, node)\n",
        "\n",
        "        node_list = []\n",
        "            #print(\"ith iter\")\n",
        "        node_list.append(graph_multiset[node])\n",
        "        #node_list.append(label[node])\n",
        "        node_list_others = []\n",
        "        \n",
        "        for node_of_neighboor in neighboors:\n",
        "            node_list_others.append(graph_multiset[node_of_neighboor])\n",
        "        node_list_others.sort()\n",
        "        \n",
        "        for e in node_list_others:\n",
        "            node_list.append(e)\n",
        "\n",
        "        list_new = [x for x in node_list]\n",
        "        multiset[node] = list_new\n",
        "\n",
        "    return multiset\n",
        "\n"
      ],
      "metadata": {
        "id": "-SrUtlq1mv-X"
      },
      "execution_count": 22,
      "outputs": []
    },
    {
      "cell_type": "code",
      "source": [
        "calculate_next_multiset_once(Graphs[0], graphs_multiset_list[0], label_list_set)"
      ],
      "metadata": {
        "id": "iDeoF5zyqNox"
      },
      "execution_count": null,
      "outputs": []
    },
    {
      "cell_type": "code",
      "source": [
        "def get_iteration_graphs_multiset_list(graphs_list, graphs_multiset_list, label_list_set):\n",
        "    \"\"\"\n",
        "    get multiset list after iteration.\n",
        "    return graphs multiset list.\n",
        "    \"\"\"\n",
        "\n",
        "    graphs_iteration_multiset_list = [] # get the list of all multisets for every nodes. list:[{node_id: nieghboor_label_list[label1, label2,...]...}...]\n",
        "\n",
        "\n",
        "    for i in range(len(graphs_list)):\n",
        "        graphs_iteration_multiset_list.append(calculate_next_multiset_once(graphs_list[i], graphs_multiset_list[i], label_list_set))\n",
        "        \n",
        "    \n",
        "    return graphs_iteration_multiset_list\n",
        "    "
      ],
      "metadata": {
        "id": "iamIqhRrmYft"
      },
      "execution_count": 24,
      "outputs": []
    },
    {
      "cell_type": "code",
      "source": [
        "get_iteration_graphs_multiset_list(Graphs, graphs_multiset_list, label_list_set)"
      ],
      "metadata": {
        "id": "mxqGR7zgoBD0"
      },
      "execution_count": null,
      "outputs": []
    },
    {
      "cell_type": "code",
      "source": [
        "len(graphs_multiset_list)"
      ],
      "metadata": {
        "colab": {
          "base_uri": "https://localhost:8080/"
        },
        "id": "79gMAuODohN4",
        "outputId": "b808423e-4976-4157-d153-9c08127b01bd"
      },
      "execution_count": 102,
      "outputs": [
        {
          "output_type": "execute_result",
          "data": {
            "text/plain": [
              "405"
            ]
          },
          "metadata": {},
          "execution_count": 102
        }
      ]
    },
    {
      "cell_type": "code",
      "source": [
        "def feature_vector_append(feature_vector_all, feature_vector):\n",
        "    \"\"\"\n",
        "    append a feature vector list after a certain iteration.\n",
        "    \"\"\"\n",
        "    if feature_vector_all is None:\n",
        "        return feature_vector\n",
        "    \n",
        "    else:\n",
        "        for i in range(len(feature_vector)):\n",
        "            for e in feature_vector:\n",
        "                feature_vector_all[i].append(e)\n",
        "        return feature_vector_all\n"
      ],
      "metadata": {
        "id": "-e2ZcuFnrb6M"
      },
      "execution_count": 25,
      "outputs": []
    },
    {
      "cell_type": "code",
      "source": [
        "def wl_test_ha(graphs_list):\n",
        "    n = len(graphs_list)\n",
        "    graphs_multiset_list = get_graphs_multiset_list(Graphs) # get the list of all multisets for every nodes. list:[{node_id: nieghboor_label_list[label1, label2,...]...}...]\n",
        "\n",
        "\n",
        "    vector_len_list = []\n",
        "    feature_vector_all = None\n",
        "\n",
        "    for iteration in range(1):\n",
        "        # get label list, label transform list and remapped list.\n",
        "        label_list, label_mapping_to_new, label_mapping_to_old, graphs_multiset_list = remap_the_label(graphs_multiset_list)\n",
        "\n",
        "        # get feature vector dict and list.\n",
        "        feature_vector_list_dict = calculate_feature_vector_dict(graphs_multiset_list)\n",
        "        len_label_list = len(label_list)\n",
        "        feature_vector = calculate_feature_vector(feature_vector_list_dict, len_label_list)\n",
        "\n",
        "        feature_vector_all = feature_vector_append(feature_vector_all, feature_vector)\n",
        "        vector_len_list = []\n",
        "\n",
        "        # get new graphs multiset list after relabeling.\n",
        "        label_list_set, graphs_multiset_list  = get_map_from_label_list_to_sorted_id(graphs_multiset_list)\n",
        "\n",
        "        graphs_multiset_list = get_iteration_graphs_multiset_list(Graphs, graphs_multiset_list, label_list_set)\n",
        "\n",
        "    \n",
        "    return feature_vector_all\n",
        "    \n",
        "\n",
        "        \n",
        "\n",
        "    \n",
        "\n",
        "\n",
        "    \n",
        "\n",
        "\n"
      ],
      "metadata": {
        "id": "u2RUDzH8m7Rh"
      },
      "execution_count": 86,
      "outputs": []
    },
    {
      "cell_type": "code",
      "source": [
        "vector_all = wl_test_ha(Graphs)"
      ],
      "metadata": {
        "id": "8Vy3BLTuoVfv"
      },
      "execution_count": 81,
      "outputs": []
    },
    {
      "cell_type": "code",
      "source": [
        "len(vector_all[0)"
      ],
      "metadata": {
        "id": "IALo05AntyPM"
      },
      "execution_count": null,
      "outputs": []
    },
    {
      "cell_type": "code",
      "source": [
        "len(Graphs[1].nodes())"
      ],
      "metadata": {
        "colab": {
          "base_uri": "https://localhost:8080/"
        },
        "id": "erUG9EdZ1isl",
        "outputId": "6580975c-0681-4548-d4a7-bb16ba5ba298"
      },
      "execution_count": 217,
      "outputs": [
        {
          "output_type": "execute_result",
          "data": {
            "text/plain": [
              "33"
            ]
          },
          "metadata": {},
          "execution_count": 217
        }
      ]
    },
    {
      "cell_type": "code",
      "source": [
        "vector_all[0]"
      ],
      "metadata": {
        "id": "px_fKR7KtgD7"
      },
      "execution_count": null,
      "outputs": []
    },
    {
      "cell_type": "code",
      "source": [
        ""
      ],
      "metadata": {
        "id": "x_x9tW-1uJ5g"
      },
      "execution_count": null,
      "outputs": []
    },
    {
      "cell_type": "code",
      "source": [
        "def multiset_join(G,dictx):    #把v上一轮的标签作为前缀，添加到s里\n",
        "    node_label = nx.get_node_attributes(G,'attr')\n",
        "    for u in dictx.keys():\n",
        "        dictx[u] = node_label[u] + dictx[u]\n",
        "    return dictx"
      ],
      "metadata": {
        "id": "V8maCdWjZZdl"
      },
      "execution_count": 13,
      "outputs": []
    },
    {
      "cell_type": "code",
      "source": [
        ""
      ],
      "metadata": {
        "id": "8VFL15AUaQ7U"
      },
      "execution_count": null,
      "outputs": []
    },
    {
      "cell_type": "code",
      "source": [
        "node_label = nx.get_node_attributes(G1,'attr')"
      ],
      "metadata": {
        "id": "HwEvrjcgZ-I_"
      },
      "execution_count": 17,
      "outputs": []
    },
    {
      "cell_type": "code",
      "source": [
        "len(Graphs[404].nodes())"
      ],
      "metadata": {
        "colab": {
          "base_uri": "https://localhost:8080/"
        },
        "id": "ANACPKuL-mEk",
        "outputId": "b7a29803-e64e-4c3e-9a3c-b2b711c9d30d"
      },
      "execution_count": 219,
      "outputs": [
        {
          "output_type": "execute_result",
          "data": {
            "text/plain": [
              "31"
            ]
          },
          "metadata": {},
          "execution_count": 219
        }
      ]
    },
    {
      "cell_type": "code",
      "source": [
        "pos = nx.spring_layout(Graphs[0])\n",
        "plt.subplot(121)\n",
        "node_labels = nx.get_node_attributes(Graphs[0], 'attr')\n",
        "\"\"\"\n",
        "for k in node_labels:\n",
        "  node_labels[k] = int(node_labels[k])\n",
        "\"\"\"\n",
        "\n",
        "nx.draw(Graphs[0], pos, with_labels=False, node_color='pink', node_size=300)\n",
        "nx.draw_networkx_labels(Graphs[0], pos, labels = node_labels)\n",
        "\n",
        "pos1 = nx.spring_layout(Graphs[2])\n",
        "plt.subplot(122)\n",
        "node_labels1 = nx.get_node_attributes(Graphs[2], 'attr')\n",
        "\"\"\"\n",
        "for k in node_labels1:\n",
        "  node_labels1[k] = int(node_labels1[k])\n",
        "\"\"\"\n",
        "nx.draw(Graphs[2], pos1, with_labels=False, node_size=300)\n",
        "nx.draw_networkx_labels(Graphs[2], pos1, labels = node_labels1)\n",
        "plt.show()\n",
        "\n",
        "WL_test(node_labels,node_labels1,Graphs[0],Graphs[2])"
      ],
      "metadata": {
        "id": "18kp0P7lucjU"
      },
      "execution_count": null,
      "outputs": []
    },
    {
      "cell_type": "markdown",
      "source": [
        "# wl_test classification"
      ],
      "metadata": {
        "id": "7KbZEeUQL4TW"
      }
    },
    {
      "cell_type": "code",
      "source": [
        "def CreateFeatureMatrix_wl_test(vector_all):\n",
        "  feature_matrix = np.zeros([len(vector_all),len(vector_all[0])])\n",
        "  for i in range(len(vector_all)):\n",
        "      feature_matrix[i,:] = vector_all[i]\n",
        "      #feature_matrix[i,j] = IsIsomorphicDefault(graphs[i],graphs[j],is_node_labeled,is_edge_labeled)\n",
        "   \n",
        "  \n",
        "  return feature_matrix\n",
        "\n"
      ],
      "metadata": {
        "id": "yUJ8FgfoMH9k"
      },
      "execution_count": 71,
      "outputs": []
    },
    {
      "cell_type": "code",
      "source": [
        "vector_all[0]"
      ],
      "metadata": {
        "id": "rxlBaAS1NBYU"
      },
      "execution_count": null,
      "outputs": []
    },
    {
      "cell_type": "code",
      "source": [
        "fe_m = CreateFeatureMatrix_wl_test(feature_matrix)"
      ],
      "metadata": {
        "id": "dhiG_atWMmWG"
      },
      "execution_count": null,
      "outputs": []
    },
    {
      "cell_type": "code",
      "source": [
        "G_train, G_test, y_train, y_test = train_test_split(fe_m, y, test_size=0.1, random_state=42)\n",
        "clf = SVC(kernel='linear')\n",
        "clf.fit(G_train, y_train)\n",
        "SVC(kernel='linear')\n",
        "y_pred = clf.predict(G_test)\n",
        "\n",
        "print(str(round(accuracy_score(y_test, y_pred)*100, 2)), \"%\")"
      ],
      "metadata": {
        "colab": {
          "base_uri": "https://localhost:8080/"
        },
        "id": "ia_Gl4m2L7ch",
        "outputId": "d04bd44c-d2f3-41a3-a244-7cc5bf4d259c"
      },
      "execution_count": 77,
      "outputs": [
        {
          "output_type": "stream",
          "name": "stdout",
          "text": [
            "85.37 %\n"
          ]
        }
      ]
    },
    {
      "cell_type": "markdown",
      "source": [
        "# Isomorphism"
      ],
      "metadata": {
        "id": "l2iMJPvpusJv"
      }
    },
    {
      "cell_type": "code",
      "execution_count": 9,
      "metadata": {
        "id": "uzdxJngHgdD-"
      },
      "outputs": [],
      "source": [
        "def IsIsomorphicDefault(G1,G2,is_node_labeled,is_edge_labeled):\n",
        "  \"\"\"\n",
        "  Input two Graphs G1, G2,\n",
        "  Input True/False if Node/edge is labeled or not.\n",
        "\n",
        "  return True/False if two Graphs is isomorphic or not.\n",
        "  \"\"\"\n",
        "  if is_node_labeled:\n",
        "    nm = iso.numerical_node_match(\"attr\",0)\n",
        "    if is_edge_labeled:\n",
        "      em = iso.numerical_edge_match(\"attr\",-1)\n",
        "      GM = iso.GraphMatcher(G1, G2, node_match=nm, edge_match=em)\n",
        "    else:\n",
        "      GM = iso.GraphMatcher(G1, G2, node_match=nm)\n",
        "  else:\n",
        "    if is_edge_labeled:\n",
        "      em = iso.numerical_edge_match(\"attr\",-1)\n",
        "      GM = iso.GraphMatcher(G1, G2, edge_match=em)\n",
        "    else:\n",
        "      GM = iso.GraphMatcher(G1, G2)\n",
        "  \n",
        "  return np.float64(GM.is_isomorphic())\n"
      ]
    },
    {
      "cell_type": "code",
      "source": [
        "flag = []\n",
        "for i in range(405):\n",
        "    for j in range(100):\n",
        "        if IsIsomorphicDefault(Graphs[i],Graphs[j],True,False) == 1:\n",
        "            flag.append([i,j])"
      ],
      "metadata": {
        "id": "ymX7lRhJFMq8"
      },
      "execution_count": 67,
      "outputs": []
    },
    {
      "cell_type": "code",
      "source": [
        "flag"
      ],
      "metadata": {
        "id": "y8WrtdnqG-J4"
      },
      "execution_count": null,
      "outputs": []
    },
    {
      "cell_type": "code",
      "source": [
        "Graphs = GetAllGraph(G)"
      ],
      "metadata": {
        "id": "ANsD_xfNHEHX"
      },
      "execution_count": 15,
      "outputs": []
    },
    {
      "cell_type": "code",
      "source": [
        "t0 = time.time()\n",
        "List = []\n",
        "for i in range(300):\n",
        "    List.append(IsIsomorphicDefault(Graphs[0],Graphs[i],False,False))\n",
        "    \n",
        "print(\"done in %0.3fs\\n\" % (time.time() - t0))\n",
        "\n"
      ],
      "metadata": {
        "colab": {
          "base_uri": "https://localhost:8080/"
        },
        "id": "S21alX7MKqtT",
        "outputId": "d9158849-8420-47c2-ae46-72820b697c05"
      },
      "execution_count": 23,
      "outputs": [
        {
          "output_type": "stream",
          "name": "stdout",
          "text": [
            "done in 15.290s\n",
            "\n"
          ]
        }
      ]
    },
    {
      "cell_type": "code",
      "source": [
        "\n",
        "t0 = time.time()\n",
        "feature_matrix = np.zeros([len(Graphs),len(Graphs)])\n",
        "for i in range(300):\n",
        "    for j in range(300):\n",
        "        if nx.weisfeiler_lehman_graph_hash(Graphs[0]) == nx.weisfeiler_lehman_graph_hash(Graphs[i]):\n",
        "            feature_matrix[i][j] = 1\n",
        "    if i % 50 == 0:\n",
        "        print(i, \"th done in %0.3fs\\n\" % (time.time() - t0))\n",
        "\n",
        "\n"
      ],
      "metadata": {
        "colab": {
          "base_uri": "https://localhost:8080/"
        },
        "id": "iHc399lsCk-Q",
        "outputId": "1182ac09-ed4c-4c0a-f78d-aae91b5b25c1"
      },
      "execution_count": 28,
      "outputs": [
        {
          "output_type": "stream",
          "name": "stdout",
          "text": [
            "0 th done in 1.336s\n",
            "\n",
            "50 th done in 71.369s\n",
            "\n",
            "100 th done in 139.841s\n",
            "\n",
            "150 th done in 209.291s\n",
            "\n",
            "200 th done in 277.223s\n",
            "\n",
            "250 th done in 346.425s\n",
            "\n"
          ]
        }
      ]
    },
    {
      "cell_type": "code",
      "source": [
        "nx.weisfeiler_lehman_graph_hash(Graphs[0]) == nx.weisfeiler_lehman_graph_hash(Graphs[2])"
      ],
      "metadata": {
        "colab": {
          "base_uri": "https://localhost:8080/"
        },
        "id": "-7bBe7NsFPe_",
        "outputId": "dd4cbaac-338d-427d-b40f-5a5f16152d4e"
      },
      "execution_count": 31,
      "outputs": [
        {
          "output_type": "execute_result",
          "data": {
            "text/plain": [
              "True"
            ]
          },
          "metadata": {},
          "execution_count": 31
        }
      ]
    },
    {
      "cell_type": "code",
      "source": [
        "feature_matrix"
      ],
      "metadata": {
        "colab": {
          "base_uri": "https://localhost:8080/"
        },
        "id": "HdfejdoPFZF0",
        "outputId": "0ce730e0-ec05-453c-892f-8715eb3b7af1"
      },
      "execution_count": 32,
      "outputs": [
        {
          "output_type": "execute_result",
          "data": {
            "text/plain": [
              "array([[1., 1., 1., ..., 1., 1., 1.],\n",
              "       [1., 1., 1., ..., 1., 1., 1.],\n",
              "       [1., 1., 1., ..., 1., 1., 1.],\n",
              "       ...,\n",
              "       [1., 1., 1., ..., 1., 1., 1.],\n",
              "       [1., 1., 1., ..., 1., 1., 1.],\n",
              "       [1., 1., 1., ..., 1., 1., 1.]])"
            ]
          },
          "metadata": {},
          "execution_count": 32
        }
      ]
    },
    {
      "cell_type": "code",
      "source": [
        "plt.matshow(feature_matrix)"
      ],
      "metadata": {
        "colab": {
          "base_uri": "https://localhost:8080/",
          "height": 293
        },
        "id": "G3eOafqmDPK5",
        "outputId": "57e22268-be19-4c95-dd7e-4e32d179be76"
      },
      "execution_count": 29,
      "outputs": [
        {
          "output_type": "execute_result",
          "data": {
            "text/plain": [
              "<matplotlib.image.AxesImage at 0x7f123dd5ab90>"
            ]
          },
          "metadata": {},
          "execution_count": 29
        },
        {
          "output_type": "display_data",
          "data": {
            "text/plain": [
              "<Figure size 288x288 with 1 Axes>"
            ],
            "image/png": "[encoded data removed]"
          },
          "metadata": {
            "needs_background": "light"
          }
        }
      ]
    },
    {
      "cell_type": "code",
      "source": [
        "List"
      ],
      "metadata": {
        "id": "eH1iZGsk98Yf"
      },
      "execution_count": null,
      "outputs": []
    },
    {
      "cell_type": "code",
      "source": [
        "15*300/60"
      ],
      "metadata": {
        "colab": {
          "base_uri": "https://localhost:8080/"
        },
        "id": "8QHhS2uY9ght",
        "outputId": "f495cd41-3308-4bff-d0bf-45be0878eb13"
      },
      "execution_count": 19,
      "outputs": [
        {
          "output_type": "execute_result",
          "data": {
            "text/plain": [
              "75.0"
            ]
          },
          "metadata": {},
          "execution_count": 19
        }
      ]
    },
    {
      "cell_type": "code",
      "source": [
        "nm = iso.numerical_node_match(\"attr\",1)\n",
        "nx.is_isomorphic(Graphs[0], Graphs[2], node_match=nm)"
      ],
      "metadata": {
        "colab": {
          "base_uri": "https://localhost:8080/"
        },
        "id": "hrSCiScBGRib",
        "outputId": "59845246-97b8-4983-82e6-e16ccd5833ad"
      },
      "execution_count": 57,
      "outputs": [
        {
          "output_type": "execute_result",
          "data": {
            "text/plain": [
              "False"
            ]
          },
          "metadata": {},
          "execution_count": 57
        }
      ]
    },
    {
      "cell_type": "code",
      "source": [
        "#Test\n",
        "nx.get_node_attributes(Graphs[0], 'attr')"
      ],
      "metadata": {
        "id": "rwzhYjnu4jva"
      },
      "execution_count": null,
      "outputs": []
    },
    {
      "cell_type": "code",
      "source": [
        "#test\n",
        "Graphs[0].add_node(0, attr=7)"
      ],
      "metadata": {
        "id": "1XgQe46W4KmD"
      },
      "execution_count": 98,
      "outputs": []
    },
    {
      "cell_type": "code",
      "source": [
        "IsIsomorphicDefault(Graphs[0],Graphs[2],True, False)"
      ],
      "metadata": {
        "colab": {
          "base_uri": "https://localhost:8080/"
        },
        "id": "PWHaZd7_7V7R",
        "outputId": "cb27f175-3f38-43f8-9b4c-1a4a230c4d72"
      },
      "execution_count": 140,
      "outputs": [
        {
          "output_type": "execute_result",
          "data": {
            "text/plain": [
              "1.0"
            ]
          },
          "metadata": {},
          "execution_count": 140
        }
      ]
    },
    {
      "cell_type": "code",
      "source": [
        "graph"
      ],
      "metadata": {
        "colab": {
          "base_uri": "https://localhost:8080/"
        },
        "id": "vT7-NHPMu5EN",
        "outputId": "4861fb02-57f1-4d15-9ef9-914da6464b8b"
      },
      "execution_count": 146,
      "outputs": [
        {
          "output_type": "execute_result",
          "data": {
            "text/plain": [
              "NodeView((4, 7, 10, 11, 5, 6, 12, 9, 8, 2, 1, 3, 21, 15, 16, 18, 19, 22, 17, 20, 26, 24, 29, 28, 27, 30, 25, 13, 14, 23))"
            ]
          },
          "metadata": {},
          "execution_count": 146
        }
      ]
    },
    {
      "cell_type": "code",
      "source": [
        ""
      ],
      "metadata": {
        "id": "J8uFLHFVu_hP"
      },
      "execution_count": null,
      "outputs": []
    },
    {
      "cell_type": "code",
      "source": [
        "#test for all isomorphic between labeled and unlabeled.\n",
        "TargetList = []\n",
        "T1 = []\n",
        "for i in range(len(Graphs)):\n",
        "  TargetList.append(IsIsomorphicDefault(Graphs[0],Graphs[i],True, False))\n",
        "  T1.append(IsIsomorphicDefault(Graphs[0],Graphs[i],False, False))"
      ],
      "metadata": {
        "id": "xSVb0XUk1V16"
      },
      "execution_count": 64,
      "outputs": []
    },
    {
      "cell_type": "code",
      "source": [
        "T1 == TargetList"
      ],
      "metadata": {
        "colab": {
          "base_uri": "https://localhost:8080/"
        },
        "id": "pU-x_FV63pbJ",
        "outputId": "659563cf-b9b9-43f0-fdd8-4fe3439a0f8a"
      },
      "execution_count": 65,
      "outputs": [
        {
          "output_type": "execute_result",
          "data": {
            "text/plain": [
              "True"
            ]
          },
          "metadata": {},
          "execution_count": 65
        }
      ]
    },
    {
      "cell_type": "code",
      "execution_count": null,
      "metadata": {
        "id": "LPLTrxxwi98e"
      },
      "outputs": [],
      "source": [
        "def CreateFeatureMatrix(graphs,is_node_labeled,is_edge_labeled):\n",
        "  feature_matrix = np.zeros([len(graphs),len(graphs)])\n",
        "  for i in range(len(graphs)):\n",
        "    for j in range(i, len(graphs)):\n",
        "      feature_matrix[i,j] = IsIsomorphicDefault(graphs[i],graphs[j],is_node_labeled,is_edge_labeled)\n",
        "   \n",
        "  \n",
        "  return feature_matrix\n",
        "\n"
      ]
    },
    {
      "cell_type": "code",
      "execution_count": null,
      "metadata": {
        "id": "c2GUiAobkfK8"
      },
      "outputs": [],
      "source": [
        "def GetIsomorphicFeatureMatrix(dataset_name,is_node_labeled,is_edge_labeled):\n",
        "  G, y = GetGraphData(dataset_name)\n",
        "  all_graph = GetAllGraph(G)\n",
        "  return CreateFeatureMatrix(all_graph,is_node_labeled,is_edge_labeled), y\n",
        "  "
      ]
    },
    {
      "cell_type": "code",
      "execution_count": null,
      "metadata": {
        "colab": {
          "base_uri": "https://localhost:8080/"
        },
        "id": "vrH7WhrNk-kT",
        "outputId": "65a80127-d6ba-418e-a387-73f066d61e02"
      },
      "outputs": [
        {
          "name": "stdout",
          "output_type": "stream",
          "text": [
            "Extracting dataset  MSRC_21..\n",
            "Parsing dataset  MSRC_21..\n",
            "Parse was succesful..\n",
            "Deleting unzipped dataset files..\n",
            "Going back to the original directory..\n"
          ]
        }
      ],
      "source": [
        "#for test\n",
        "dataset_name = 'MSRC_21'\n",
        "f_m, y = GetIsomorphicFeatureMatrix(dataset_name,False,False)\n"
      ]
    },
    {
      "cell_type": "code",
      "execution_count": null,
      "metadata": {
        "colab": {
          "base_uri": "https://localhost:8080/"
        },
        "id": "yRT5Dj_2lmqZ",
        "outputId": "0a3cfcd7-e9b4-42ac-e1de-7d2bb3a39291"
      },
      "outputs": [
        {
          "data": {
            "text/plain": [
              "array([[1., 0., 0., ..., 0., 0., 0.],\n",
              "       [0., 1., 0., ..., 0., 0., 1.],\n",
              "       [0., 0., 1., ..., 0., 0., 0.],\n",
              "       ...,\n",
              "       [0., 0., 0., ..., 1., 0., 0.],\n",
              "       [0., 0., 0., ..., 0., 1., 0.],\n",
              "       [0., 0., 0., ..., 0., 0., 1.]])"
            ]
          },
          "execution_count": 315,
          "metadata": {},
          "output_type": "execute_result"
        }
      ],
      "source": [
        "f_m"
      ]
    },
    {
      "cell_type": "code",
      "execution_count": null,
      "metadata": {
        "colab": {
          "base_uri": "https://localhost:8080/"
        },
        "id": "_HiEFR7WNWcr",
        "outputId": "c30ec222-3936-4917-a768-112ce70ef0ff"
      },
      "outputs": [
        {
          "name": "stdout",
          "output_type": "stream",
          "text": [
            "0.0011680770374457498\n"
          ]
        }
      ],
      "source": [
        "isom = []\n",
        "clm = []\n",
        "count = 0\n",
        "import pandas as pd\n",
        "for i in range(f_m.shape[0]):\n",
        "  for j in range(i+1,f_m.shape[1]):\n",
        "   if f_m[i,j] == 1:\n",
        "    count += 1\n",
        "   isom.append(f_m[i,j])\n",
        "   clm.append(not(y[i] ^ y[j]))\n",
        "\n",
        "A1=pd.Series(isom)\n",
        "B1=pd.Series(clm)\n",
        "corr=B1.corr(A1,method='pearson')\n",
        "print(corr)"
      ]
    },
    {
      "cell_type": "code",
      "execution_count": null,
      "metadata": {
        "colab": {
          "base_uri": "https://localhost:8080/"
        },
        "id": "0Aa-sBiGR1wf",
        "outputId": "ee4512d4-a04b-4479-ef4d-1db04eeeaf95"
      },
      "outputs": [
        {
          "data": {
            "text/plain": [
              "243"
            ]
          },
          "execution_count": 318,
          "metadata": {},
          "output_type": "execute_result"
        }
      ],
      "source": [
        "count"
      ]
    },
    {
      "cell_type": "code",
      "execution_count": null,
      "metadata": {
        "colab": {
          "base_uri": "https://localhost:8080/"
        },
        "id": "94dxkJPrTFIC",
        "outputId": "c61c44a6-e678-46ba-91f2-5d2404a23419"
      },
      "outputs": [
        {
          "data": {
            "text/plain": [
              "0.00411892331683504"
            ]
          },
          "execution_count": 319,
          "metadata": {},
          "output_type": "execute_result"
        }
      ],
      "source": [
        "243*2/((344*344)-344)"
      ]
    },
    {
      "cell_type": "markdown",
      "metadata": {
        "id": "fHcvqRgksTbt"
      },
      "source": [
        "#graph kernel "
      ]
    },
    {
      "cell_type": "code",
      "execution_count": null,
      "metadata": {
        "id": "wIzeuqBosees"
      },
      "outputs": [],
      "source": [
        "def GetKernelFeautreMartix(dataset_name,kernel_name):\n",
        "  pass\n",
        "  "
      ]
    },
    {
      "cell_type": "code",
      "execution_count": null,
      "metadata": {
        "id": "mxuNPtF22Ri6"
      },
      "outputs": [],
      "source": [
        "G_train, G_test, y_train, y_test = train_test_split(G, y, test_size=0.1, random_state=42)"
      ]
    },
    {
      "cell_type": "code",
      "execution_count": null,
      "metadata": {
        "colab": {
          "base_uri": "https://localhost:8080/"
        },
        "id": "gBVf_8aP2WWc",
        "outputId": "7a1330f6-b726-4b54-bd6c-2f16cffb95f8"
      },
      "outputs": [
        {
          "data": {
            "text/plain": [
              "list"
            ]
          },
          "execution_count": 14,
          "metadata": {},
          "output_type": "execute_result"
        }
      ],
      "source": [
        "type(G_train)"
      ]
    },
    {
      "cell_type": "code",
      "execution_count": null,
      "metadata": {
        "id": "GmDU085wwbV9"
      },
      "outputs": [],
      "source": [
        "def Grk(dataset_anme):\n",
        "  G, y = GetGraphData(dataset_name)\n",
        "  G_train, G_test, y_train, y_test = train_test_split(G, y, test_size=0.1, random_state=42)\n",
        "  gk = grakel.GraphKernel(kernel=[{\"name\": \"weisfeiler_lehman\", \"n_iter\": 5}, \"subtree_wl\"] ,Nystroem=20)\n",
        "  K_train = gk.fit_transform(G_train)\n",
        "  K_test = gk.transform(G_test)\n",
        "\n",
        "  clf = SVC(kernel='linear')\n",
        "  clf.fit(K_train, y_train)\n",
        "  SVC(kernel='linear')\n",
        "  y_pred = clf.predict(K_test)\n",
        "  print(str(round(accuracy_score(y_test, y_pred)*100, 2)), \"%\")"
      ]
    },
    {
      "cell_type": "code",
      "execution_count": null,
      "metadata": {
        "colab": {
          "base_uri": "https://localhost:8080/"
        },
        "id": "1M4QoFNrwwG1",
        "outputId": "fb3fbcff-65f0-4120-a9b9-1556133fb399"
      },
      "outputs": [
        {
          "name": "stdout",
          "output_type": "stream",
          "text": [
            "Extracting dataset  PTC_MR..\n",
            "Parsing dataset  PTC_MR..\n",
            "Parse was succesful..\n",
            "Deleting unzipped dataset files..\n",
            "Going back to the original directory..\n",
            "48.57 %\n"
          ]
        }
      ],
      "source": [
        "Grk(\"PTC_MR\")"
      ]
    },
    {
      "cell_type": "markdown",
      "metadata": {
        "id": "mo__igLDi6AO"
      },
      "source": [
        "#classification "
      ]
    },
    {
      "cell_type": "code",
      "execution_count": null,
      "metadata": {
        "id": "wTZHu0MaiAz7"
      },
      "outputs": [],
      "source": [
        "G_train, G_test, y_train, y_test = train_test_split(f_m, y, test_size=0.1, random_state=42)\n",
        "clf = SVC(kernel='linear')\n",
        "clf.fit(G_train, y_train)\n",
        "SVC(kernel='linear')\n",
        "y_pred = clf.predict(G_test)"
      ]
    },
    {
      "cell_type": "code",
      "execution_count": null,
      "metadata": {
        "colab": {
          "base_uri": "https://localhost:8080/"
        },
        "id": "LkFGsqummb2B",
        "outputId": "73370adf-b813-4b38-dcd8-5f63446f2264"
      },
      "outputs": [
        {
          "name": "stdout",
          "output_type": "stream",
          "text": [
            "62.86 %\n"
          ]
        }
      ],
      "source": [
        "\n",
        "print(str(round(accuracy_score(y_test, y_pred)*100, 2)), \"%\")"
      ]
    },
    {
      "cell_type": "code",
      "execution_count": null,
      "metadata": {
        "colab": {
          "base_uri": "https://localhost:8080/"
        },
        "id": "c3CU7KZ7JQ24",
        "outputId": "f93065b9-8bc0-46c0-87a1-5069e0e1cc7f"
      },
      "outputs": [
        {
          "name": "stdout",
          "output_type": "stream",
          "text": [
            "nan\n"
          ]
        },
        {
          "name": "stderr",
          "output_type": "stream",
          "text": [
            "/usr/local/lib/python3.7/dist-packages/ipykernel_launcher.py:10: DeprecationWarning: The default dtype for empty Series will be 'object' instead of 'float64' in a future version. Specify a dtype explicitly to silence this warning.\n",
            "  # Remove the CWD from sys.path while we load stuff.\n"
          ]
        }
      ],
      "source": [
        "isom = []\n",
        "clm = []\n",
        "count = 0\n",
        "import pandas as pd\n",
        "for i in range(f_m.shape[0]):\n",
        "  for j in range(i,f_m.shape[1]):\n",
        "    if f_m[i,j] == 1:\n",
        "      count += 1\n",
        "    isom.append(f_m[i,j])\n",
        "    isom.append(y[i] ^ y[j])\n",
        "\n",
        "A1=pd.Series(isom)\n",
        "B1=pd.Series(clm)\n",
        "corr=B1.corr(A1,method=\"pearson\")\n",
        "print(corr)"
      ]
    },
    {
      "cell_type": "code",
      "execution_count": null,
      "metadata": {
        "colab": {
          "base_uri": "https://localhost:8080/"
        },
        "id": "6iLfj2OKJs5q",
        "outputId": "c5d24e22-768e-482d-bcfc-7d491de15293"
      },
      "outputs": [
        {
          "data": {
            "text/plain": [
              "209"
            ]
          },
          "execution_count": 134,
          "metadata": {},
          "output_type": "execute_result"
        }
      ],
      "source": [
        "f_m.shape[1]"
      ]
    }
  ],
  "metadata": {
    "colab": {
      "collapsed_sections": [],
      "name": "runnnnnn.ipynb",
      "provenance": [],
      "include_colab_link": true
    },
    "kernelspec": {
      "display_name": "Python 3",
      "name": "python3"
    },
    "language_info": {
      "name": "python"
    }
  },
  "nbformat": 4,
  "nbformat_minor": 0
}